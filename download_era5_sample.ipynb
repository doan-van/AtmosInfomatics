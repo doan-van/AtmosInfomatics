{
 "cells": [
  {
   "cell_type": "markdown",
   "id": "ca95d886-cd21-469d-aedf-e1d93f859396",
   "metadata": {},
   "source": [
    "# This script is to download ERA5 monthly data\n"
   ]
  },
  {
   "cell_type": "code",
   "execution_count": 2,
   "id": "d48cdce4-cd2c-410b-b120-c9be40d76fb4",
   "metadata": {
    "tags": []
   },
   "outputs": [
    {
     "name": "stderr",
     "output_type": "stream",
     "text": [
      "2024-02-19 10:34:16,436 INFO Welcome to the CDS\n",
      "2024-02-19 10:34:16,438 INFO Sending request to https://cds.climate.copernicus.eu/api/v2/resources/reanalysis-era5-single-levels-monthly-means\n",
      "2024-02-19 10:34:16,676 INFO Request is queued\n",
      "2024-02-19 11:32:59,253 INFO Request is running\n",
      "2024-02-19 11:43:03,341 INFO Request is completed\n",
      "2024-02-19 11:43:03,344 INFO Downloading https://download-0017.copernicus-climate.eu/cache-compute-0017/cache/data2/adaptor.mars.internal-1708310518.1508338-30339-1-1fadbc1d-bd69-4b13-948a-3bf96c607312.nc to ERA5_mon_1940-2024_1deg.nc (501.6M)\n",
      "2024-02-19 11:54:33,104 ERROR Download interupted: HTTPSConnectionPool(host='download-0017.copernicus-climate.eu', port=443): Read timed out.                 \n",
      "2024-02-19 11:54:33,112 ERROR Download incomplete, downloaded 272609280 byte(s) out of 525979140\n",
      "2024-02-19 11:54:33,113 WARNING Sleeping 10 seconds\n",
      "2024-02-19 11:54:43,118 WARNING Resuming download at byte 272609280\n",
      "2024-02-19 11:54:43,130 WARNING Connection error: [HTTPSConnectionPool(host='download-0017.copernicus-climate.eu', port=443): Max retries exceeded with url: /cache-compute-0017/cache/data2/adaptor.mars.internal-1708310518.1508338-30339-1-1fadbc1d-bd69-4b13-948a-3bf96c607312.nc (Caused by NewConnectionError('<urllib3.connection.HTTPSConnection object at 0x105246190>: Failed to establish a new connection: [Errno 8] nodename nor servname provided, or not known'))]. Attempt 1 of 500.\n",
      "2024-02-19 11:54:43,131 WARNING Retrying in 120 seconds\n",
      "2024-02-19 11:56:43,137 INFO Retrying now...\n",
      "2024-02-19 12:04:44,620 INFO Download rate 394.7K/s                                                                                                           \n"
     ]
    },
    {
     "data": {
      "text/plain": [
       "Result(content_length=525979140,content_type=application/x-netcdf,location=https://download-0017.copernicus-climate.eu/cache-compute-0017/cache/data2/adaptor.mars.internal-1708310518.1508338-30339-1-1fadbc1d-bd69-4b13-948a-3bf96c607312.nc)"
      ]
     },
     "execution_count": 2,
     "metadata": {},
     "output_type": "execute_result"
    }
   ],
   "source": [
    "import cdsapi\n",
    "c = cdsapi.Client()\n",
    "\n",
    "c.retrieve(\n",
    "    'reanalysis-era5-single-levels-monthly-means',\n",
    "    {\n",
    "        'format': 'netcdf',\n",
    "        'product_type': 'monthly_averaged_reanalysis',\n",
    "        'variable': [\n",
    "            '2m_temperature', 'total_precipitation',\n",
    "        ],\n",
    "        'year':  [\n",
    "        '1940', '1941', '1942',\n",
    "        '1943', '1944', '1945',\n",
    "        '1946', '1947', '1948',\n",
    "        '1949', '1950', '1951',\n",
    "        '1952', '1953', '1954',\n",
    "        '1955', '1956', '1957',\n",
    "        '1958', '1959', '1960',\n",
    "        '1961', '1962', '1963',\n",
    "        '1964', '1965', '1966',\n",
    "        '1967', '1968', '1969',\n",
    "        '1970', '1971', '1972',\n",
    "        '1973', '1974', '1975',\n",
    "        '1976', '1977', '1978',\n",
    "        '1979', '1980', '1981',\n",
    "        '1982', '1983', '1984',\n",
    "        '1985', '1986', '1987',\n",
    "        '1988', '1989', '1990',\n",
    "        '1991', '1992', '1993',\n",
    "        '1994', '1995', '1996',\n",
    "        '1997', '1998', '1999',\n",
    "        '2000', '2001', '2002',\n",
    "        '2003', '2004', '2005',\n",
    "        '2006', '2007', '2008',\n",
    "        '2009', '2010', '2011',\n",
    "        '2012', '2013', '2014',\n",
    "        '2015', '2016', '2017',\n",
    "        '2018', '2019', '2020',\n",
    "        '2021', '2022', '2023',\n",
    "        '2024'],\n",
    "        'month': [\n",
    "            '01', '02', '03',\n",
    "            '04', '05', '06',\n",
    "            '07', '08', '09',\n",
    "            '10', '11', '12',\n",
    "        ],\n",
    "        'time': '00:00',\n",
    "        'grid': [2, 2],\n",
    "    },\n",
    "    'ERA5_mon_1940-2024.nc')"
   ]
  },
  {
   "cell_type": "code",
   "execution_count": null,
   "id": "f904994f-d874-4cb4-9422-20c833192ec7",
   "metadata": {},
   "outputs": [],
   "source": []
  }
 ],
 "metadata": {
  "kernelspec": {
   "display_name": "Python 3 (ipykernel)",
   "language": "python",
   "name": "python3"
  },
  "language_info": {
   "codemirror_mode": {
    "name": "ipython",
    "version": 3
   },
   "file_extension": ".py",
   "mimetype": "text/x-python",
   "name": "python",
   "nbconvert_exporter": "python",
   "pygments_lexer": "ipython3",
   "version": "3.11.5"
  }
 },
 "nbformat": 4,
 "nbformat_minor": 5
}
