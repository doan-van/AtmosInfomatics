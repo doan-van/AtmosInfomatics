{
 "cells": [
  {
   "cell_type": "code",
   "execution_count": null,
   "id": "dc38448b",
   "metadata": {},
   "outputs": [],
   "source": [
    "import numpy as np\n",
    "import xarray as xr\n",
    "import pandas as pd\n",
    "print('===')\n",
    "# ## Prepare input data for Unet\n",
    "# =======\n",
    "# preparing data"
   ]
  },
  {
   "cell_type": "code",
   "execution_count": null,
   "id": "af1dbd36",
   "metadata": {
    "lines_to_next_cell": 2
   },
   "outputs": [],
   "source": [
    "if 0:\n",
    "    ds = xr.open_dataset('/Users/doan/Desktop/2023_2t_era5_land.nc')\n",
    "    tb = ds.sel(longitude = slice(65,110), latitude = slice(50,15) )\n",
    "    tb0 = tb.groupby('time.date').mean()\n",
    "    tb0.date.values[:]  = pd.to_datetime(tb0.date.values).strftime('%Y%m%d')  #pd.to_datetime(tb0.date.values)\n",
    "    tb0.to_netcdf('data/tb.nc')"
   ]
  },
  {
   "cell_type": "code",
   "execution_count": null,
   "id": "0352961b",
   "metadata": {},
   "outputs": [],
   "source": [
    "# Put data together\n",
    "if 0:\n",
    "    \n",
    "    ds = xr.open_dataset('data/tb.nc')['t2m']\n",
    "    print('shape of original data: ', ds.shape)\n",
    "    \n",
    "    \n",
    "    # get \"high-resolution data\"\n",
    "    # because the original data is at high-resolution, here reduce it\n",
    "    n_int = 7\n",
    "    # https://docs.xarray.dev/en/latest/user-guide/interpolation.html\n",
    "    d1 = ds.interp(latitude=ds.latitude[::n_int], longitude = ds.longitude[::n_int])\n",
    "    \n",
    "    \n",
    "    print('shape of interpolated data: ', d1.shape)\n",
    "    \n",
    "    n_blur = 7\n",
    "    # rolling https://docs.xarray.dev/en/stable/generated/xarray.DataArray.rolling.html\n",
    "    d2 = d1.rolling( {'latitude':n_blur,'longitude':n_blur}, center=True).mean()\n",
    "    \n",
    "    print('shape of rolling data: ', d2.shape)\n",
    "    \n",
    "    \n",
    "    d4 = d2[:, ::n_blur,::n_blur]\n",
    "    \n",
    "    print('shape of rolling data: ', d4.shape)\n",
    "    \n",
    "    d5 = d4.interp(latitude=d1.latitude, longitude = d1.longitude, method= 'nearest')\n",
    "    \n",
    "    # extract only Tibet area using .sel\n",
    "    do = xr.Dataset( {'hi': d1, 'lo':d5} ).sel(longitude = slice(75,97.25), latitude = slice(42.75,26) )\n",
    "    \n",
    "    print(do)\n",
    "    do.to_netcdf('data/tb_input.nc')"
   ]
  },
  {
   "cell_type": "code",
   "execution_count": null,
   "id": "96d09e33",
   "metadata": {},
   "outputs": [],
   "source": [
    "    "
   ]
  },
  {
   "cell_type": "code",
   "execution_count": null,
   "id": "481ccbc6",
   "metadata": {
    "lines_to_next_cell": 2
   },
   "outputs": [],
   "source": [
    "    "
   ]
  },
  {
   "cell_type": "code",
   "execution_count": null,
   "id": "586ce607",
   "metadata": {},
   "outputs": [],
   "source": [
    "dinput = xr.open_dataset('data/tb_input.nc')"
   ]
  },
  {
   "cell_type": "code",
   "execution_count": null,
   "id": "795667e0",
   "metadata": {},
   "outputs": [],
   "source": [
    "dinput.lo[0].plot()\n",
    "#n = 365\n",
    "n = dinput['hi'].shape[0]\n",
    "print('we have ', n, 'sample')"
   ]
  },
  {
   "cell_type": "code",
   "execution_count": null,
   "id": "313fd401",
   "metadata": {},
   "outputs": [],
   "source": [
    "# separate data to three part: 1) training; 2) validation; 3) test\n",
    "ii = np.arange(n)\n",
    "n_train = int(round(.7*n))\n",
    "print('extract: ', n_train, 'for training')"
   ]
  },
  {
   "cell_type": "code",
   "execution_count": null,
   "id": "adb685f5",
   "metadata": {},
   "outputs": [],
   "source": [
    "import random\n",
    "itrain=[]\n",
    "while len(itrain) !=  n_train :\n",
    "   r=random.randint(0,n-1)\n",
    "   if r not in itrain: itrain.append(r)"
   ]
  },
  {
   "cell_type": "code",
   "execution_count": null,
   "id": "197d53c2",
   "metadata": {},
   "outputs": [],
   "source": [
    "print( 'check len of training data: ', len(np.unique(itrain)), len(itrain))\n",
    "print('get 70% of whole data to train: ', len(itrain))"
   ]
  },
  {
   "cell_type": "code",
   "execution_count": null,
   "id": "242c65e4",
   "metadata": {},
   "outputs": [],
   "source": [
    "i2 = np.setdiff1d(ii, itrain)\n",
    "print('then we have remaining ', len(i2))"
   ]
  },
  {
   "cell_type": "code",
   "execution_count": null,
   "id": "935dabf3",
   "metadata": {},
   "outputs": [],
   "source": [
    "n_vt = len(i2)\n",
    "n_val = int(round(.6*n_vt))"
   ]
  },
  {
   "cell_type": "code",
   "execution_count": null,
   "id": "e25e01f5",
   "metadata": {
    "lines_to_next_cell": 2
   },
   "outputs": [],
   "source": [
    "j1=[]\n",
    "while len(j1) !=  n_val :\n",
    "    r=random.randint(0, n_vt - 1)\n",
    "    if r not in j1: j1.append(r)"
   ]
  },
  {
   "cell_type": "code",
   "execution_count": null,
   "id": "910c1747",
   "metadata": {},
   "outputs": [],
   "source": [
    "ival = i2[j1]\n",
    "itest = np.setdiff1d(i2, ival)"
   ]
  },
  {
   "cell_type": "code",
   "execution_count": null,
   "id": "8a5ad2d5",
   "metadata": {},
   "outputs": [],
   "source": [
    "print(np.unique(np.union1d(itrain, np.union1d(ival, itest))).shape)\n",
    "print(len(itrain) + len(ival) + len(itest))\n",
    "# -"
   ]
  },
  {
   "cell_type": "code",
   "execution_count": null,
   "id": "dd381c37",
   "metadata": {},
   "outputs": [],
   "source": []
  },
  {
   "cell_type": "code",
   "execution_count": null,
   "id": "700fb2ed",
   "metadata": {},
   "outputs": [],
   "source": [
    "dtrain0 = dinput.isel(date=itrain)\n",
    "dval0 = dinput.isel(date=ival)\n",
    "dtest0 = dinput.isel(date=itest)\n",
    "\n",
    "\n",
    "# =====\n",
    "dtrain0.to_netcdf('data/tb_train.nc')\n",
    "dval0.to_netcdf('data/tb_val.nc')\n",
    "dtest0.to_netcdf('data/tb_test.nc')\n",
    "\n",
    "\n",
    "\n",
    "\n",
    "\n",
    "\n",
    "\n",
    "\n",
    "\n",
    "\n",
    "\n",
    "\n",
    "\n"
   ]
  }
 ],
 "metadata": {
  "jupytext": {
   "cell_metadata_filter": "-all",
   "formats": "ipynb,py:percent",
   "main_language": "python"
  }
 },
 "nbformat": 4,
 "nbformat_minor": 5
}
