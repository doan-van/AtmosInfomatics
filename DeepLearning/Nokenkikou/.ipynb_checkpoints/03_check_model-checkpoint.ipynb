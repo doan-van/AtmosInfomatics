{
 "cells": [
  {
   "cell_type": "code",
   "execution_count": null,
   "id": "3d576edd",
   "metadata": {},
   "outputs": [],
   "source": [
    "\"\"\"\n",
    "Created on Tue Jul  2 14:22:01 2024\n",
    "\n",
    "@author: doan\n",
    "\"\"\""
   ]
  },
  {
   "cell_type": "code",
   "execution_count": null,
   "id": "f1f83e6a",
   "metadata": {},
   "outputs": [],
   "source": [
    "import tensorflow as tf\n",
    "import xarray as xr\n",
    "import numpy as np\n",
    "import matplotlib.pyplot as plt"
   ]
  },
  {
   "cell_type": "code",
   "execution_count": null,
   "id": "46a16c5b",
   "metadata": {},
   "outputs": [],
   "source": []
  },
  {
   "cell_type": "code",
   "execution_count": null,
   "id": "57aebd78",
   "metadata": {},
   "outputs": [],
   "source": [
    "dtrain0 = xr.open_dataset('data/tb_train.nc')\n",
    "dval0 = xr.open_dataset('data/tb_val.nc')\n",
    "dtest0 = xr.open_dataset('data/tb_test.nc')"
   ]
  },
  {
   "cell_type": "code",
   "execution_count": null,
   "id": "5ee76168",
   "metadata": {},
   "outputs": [],
   "source": []
  },
  {
   "cell_type": "code",
   "execution_count": null,
   "id": "d0f18b8b",
   "metadata": {
    "lines_to_next_cell": 2
   },
   "outputs": [],
   "source": [
    "# normalize data\n",
    "drs = []\n",
    "for d in [dtrain0, dval0, dtest0 ]:\n",
    "    #xmin, xrange = d.min(), d.max() - d.min()\n",
    "    #drs.append( (d - xmin) / xrange)\n",
    "    x1, x2 = d.mean(), d.std()\n",
    "    drs.append( (d - x1) / x2 )"
   ]
  },
  {
   "cell_type": "code",
   "execution_count": null,
   "id": "b3d0282d",
   "metadata": {},
   "outputs": [],
   "source": [
    "dtrain, dval, dtest = drs"
   ]
  },
  {
   "cell_type": "code",
   "execution_count": null,
   "id": "fd3f3ed0",
   "metadata": {},
   "outputs": [],
   "source": [
    "int_data = dtrain.lo.values\n",
    "X_train = np.expand_dims(int_data,3)\n",
    "y_train = dtrain.hi.values"
   ]
  },
  {
   "cell_type": "code",
   "execution_count": null,
   "id": "d20c099d",
   "metadata": {},
   "outputs": [],
   "source": [
    "X_val = np.expand_dims(dval.lo.values,3)\n",
    "y_val = dval.hi.values"
   ]
  },
  {
   "cell_type": "code",
   "execution_count": null,
   "id": "270c0fca",
   "metadata": {},
   "outputs": [],
   "source": [
    "X_test = np.expand_dims(dtest.lo.values,3)\n",
    "y_test = dtest.hi.values"
   ]
  },
  {
   "cell_type": "code",
   "execution_count": null,
   "id": "973b5e92",
   "metadata": {},
   "outputs": [],
   "source": []
  },
  {
   "cell_type": "code",
   "execution_count": null,
   "id": "2331b512",
   "metadata": {
    "lines_to_next_cell": 2
   },
   "outputs": [],
   "source": []
  },
  {
   "cell_type": "code",
   "execution_count": null,
   "id": "fcb58249",
   "metadata": {},
   "outputs": [],
   "source": [
    "# load model and run\n",
    "xmodel = tf.keras.models.load_model('tb_small') \n",
    "# -\n",
    "import json\n",
    "summary = str(xmodel.to_json())\n",
    "a = json.loads(summary)\n",
    "al = a['config']['layers']"
   ]
  },
  {
   "cell_type": "markdown",
   "id": "8cd14fd4",
   "metadata": {},
   "source": [
    "## Look at procesess "
   ]
  },
  {
   "cell_type": "code",
   "execution_count": null,
   "id": "867dd16a",
   "metadata": {},
   "outputs": [],
   "source": [
    "xmodel.summary()\n",
    "l0 = X_test\n",
    "layx = {0:l0}\n",
    "for i in range(len(xmodel.layers))[1:]:\n",
    "    \n",
    "    layer = xmodel.layers[i]\n",
    "    '''\n",
    "    print(i, \n",
    "          #layer.name, \n",
    "          al[i]['class_name'], \n",
    "          al[i]['config']['name'], \n",
    "          al[i]['inbound_nodes']\n",
    "          )\n",
    "    '''\n",
    "    if i == 20:\n",
    "        l0 = layer( (layx[i-1], layx[14] ) )\n",
    "\n",
    "    elif i == 28:\n",
    "        l0 = layer( (layx[i-1], layx[10] ) )\n",
    "\n",
    "    elif i == 36:\n",
    "        l0 = layer( (layx[i-1], layx[6] ) )        \n",
    "        \n",
    "    else: l0 = layer(l0)\n",
    "    \n",
    "    #print(i, layer.name, ': ', len(l0[0].shape) )\n",
    "    lshape = l0[0].shape\n",
    "    for k in range(lshape[-1])[:0]:\n",
    "        print(k)\n",
    "        b = l0[0,:,:,k]\n",
    "        plt.imshow(b)\n",
    "        plt.show()\n",
    "        \n",
    "    layx[i] = l0\n",
    "    \n",
    "    print(i, al[i]['class_name'])\n",
    "    if al[i]['class_name'] == 'Conv2D':\n",
    "        print(i, layer.name, ': ', len(layer.weights) )\n",
    "        w = layer.weights\n",
    "        print(w[0].shape)\n",
    "        #plt.imshow(w[0][:,:,0,0])\n",
    "        #plt.show()\n",
    "    \n",
    "    \n",
    "    \n",
    "    #for w in layer.get_weights():\n",
    "    #    print(w)"
   ]
  },
  {
   "cell_type": "code",
   "execution_count": null,
   "id": "ebecbde3",
   "metadata": {
    "lines_to_next_cell": 2
   },
   "outputs": [],
   "source": []
  }
 ],
 "metadata": {
  "jupytext": {
   "cell_metadata_filter": "-all",
   "encoding": "# -*- coding: utf-8 -*-",
   "executable": "/usr/bin/env python3",
   "formats": "ipynb,py:percent",
   "main_language": "python"
  }
 },
 "nbformat": 4,
 "nbformat_minor": 5
}
