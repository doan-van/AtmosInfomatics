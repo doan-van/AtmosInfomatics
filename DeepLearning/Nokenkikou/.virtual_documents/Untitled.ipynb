import numpy as np
import xarray as xr
import pandas as pd
ds = xr.open_dataset('/Users/doan/Downloads/NARO_data2023 (1).nc')['TMP_mea']


ds[0].plot()


print('shape of original data: ', ds.shape)
n_blur = 15
# rolling https://docs.xarray.dev/en/stable/generated/xarray.DataArray.rolling.html
d2 = ds.rolling( {'latitude':n_blur,'longitude':n_blur}, center=True).mean()


d2[0].plot()


print('shape of rolling data: ', d2.shape)
d4 = d2[:, ::n_blur,::n_blur]
print('shape of rolling data: ', d4.shape)
d5 = d4.interp(latitude=ds.latitude, longitude = ds.longitude, method= 'nearest')


# extract only Tibet area using .sel
do = xr.Dataset( {'hi': ds, 'lo':d5} )
#.sel(longitude = slice(75,97.25), latitude = slice(42.75,26) )
#print(do)
#do.to_netcdf('data/_input.nc')


latslide = (36, 36.2)
lonslide  = (136.55, 136.95)
dna = do.sel(latitude=slice(latslide[0], latslide[1]), longitude=slice(lonslide[0], lonslide[1]))
print(dna['hi'].shape)
dna.lo[0].plot()


dna


dinput = dna
#n = 365
n = dinput['hi'].shape[0]
print('we have ', n, 'sample')


# separate data to three part: 1) training; 2) validation; 3) test
ii = np.arange(n)
n_train = int(round(.7*n))
print('extract: ', n_train, 'for training')
import random
itrain=[]
while len(itrain) !=  n_train :
   r=random.randint(0,n-1)
   if r not in itrain: itrain.append(r)
i2 = np.setdiff1d(ii, itrain)
print('then we have remaining ', len(i2))
n_vt = len(i2)
n_val = int(round(.6*n_vt))
j1=[]
while len(j1) !=  n_val :
    r=random.randint(0, n_vt - 1)
    if r not in j1: j1.append(r)
ival = i2[j1]
itest = np.setdiff1d(i2, ival)
print(np.unique(np.union1d(itrain, np.union1d(ival, itest))).shape)
print(len(itrain) + len(ival) + len(itest))
# -
dtrain0 = dinput.isel(time=itrain)
dval0 = dinput.isel(time=ival)
dtest0 = dinput.isel(time=itest)


# =====
dtrain0.to_netcdf('data/test_train.nc')
dval0.to_netcdf('data/test_val.nc')
dtest0.to_netcdf('data/test_test.nc')







