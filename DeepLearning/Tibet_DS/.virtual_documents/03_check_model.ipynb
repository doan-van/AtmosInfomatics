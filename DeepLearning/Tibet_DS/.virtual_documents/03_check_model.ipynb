


import tensorflow as tf
import xarray as xr
import numpy as np
import matplotlib.pyplot as plt





dtest0 = xr.open_dataset('data/tb_test.nc')

# normalize data
dtest = ( dtest0 - dtest0.mean() ) / dtest0.std()


X_test = np.expand_dims(dtest.lo.values,3)
y_test = dtest.hi.values





# load model and run
xmodel = tf.keras.models.load_model('tb_small') 
# -
import json
summary = str(xmodel.to_json())
a = json.loads(summary)
al = a['config']['layers']





xmodel.summary()
l0 = X_test
layx = {0:l0}
for i in range(len(xmodel.layers))[1:]:
    
    layer = xmodel.layers[i]
    '''
    print(i, 
          #layer.name, 
          al[i]['class_name'], 
          al[i]['config']['name'], 
          al[i]['inbound_nodes']
          )
    '''
    if i == 20:
        l0 = layer( (layx[i-1], layx[14] ) )

    elif i == 28:
        l0 = layer( (layx[i-1], layx[10] ) )

    elif i == 36:
        l0 = layer( (layx[i-1], layx[6] ) )        
        
    else: l0 = layer(l0)
    
    #print(i, layer.name, ': ', len(l0[0].shape) )
    lshape = l0[0].shape
    for k in range(lshape[-1])[:2]:
        print(k)
        b = l0[0,:,:,k]
        plt.imshow(b)
        plt.show()
        
    layx[i] = l0
    
    print(i, al[i]['class_name'])
    if al[i]['class_name'] == 'Conv2D':
        print(i, layer.name, ': ', len(layer.weights) )
        w = layer.weights
        print(w[0].shape)
        #plt.imshow(w[0][:,:,0,0])
        #plt.show()
    
    
    
    #for w in layer.get_weights():
    #    print(w)



