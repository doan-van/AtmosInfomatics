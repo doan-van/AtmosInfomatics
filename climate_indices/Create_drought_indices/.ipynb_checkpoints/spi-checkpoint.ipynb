{
 "cells": [
  {
   "cell_type": "code",
   "execution_count": null,
   "id": "d999659f",
   "metadata": {},
   "outputs": [],
   "source": [
    "import sys, glob\n",
    "import numpy as np\n",
    "import xarray as xr\n",
    "import pandas as pd\n",
    "sys.path.insert(0, \"climindices/src\")\n",
    "from climate_indices import compute, indices, utils\n",
    "from climate_indices.compute import scale_values, Periodicity\n",
    "#=================="
   ]
  },
  {
   "cell_type": "code",
   "execution_count": null,
   "id": "f1b2b508",
   "metadata": {
    "lines_to_next_cell": 2
   },
   "outputs": [],
   "source": []
  },
  {
   "cell_type": "code",
   "execution_count": null,
   "id": "8b1eac18",
   "metadata": {},
   "outputs": [],
   "source": [
    "#==================\n",
    "# compute spi spei\n",
    "if 0:\n",
    "    ifiles = sorted(glob.glob('download/era/data/*.nc') )\n",
    "    \n",
    "    ds = xr.open_mfdataset(ifiles) #['tp']\n",
    "    do = ds.isel(longitude = np.arange(0,360,2), latitude = np.arange(0,181,2) )\n",
    "    do.to_netcdf('era5_2deg.nc')"
   ]
  },
  {
   "cell_type": "code",
   "execution_count": null,
   "id": "1c2d8c9e",
   "metadata": {},
   "outputs": [],
   "source": []
  },
  {
   "cell_type": "code",
   "execution_count": null,
   "id": "dc2230ee",
   "metadata": {},
   "outputs": [],
   "source": [
    "tp = xr.open_dataset('era5_2deg.nc')['tp'][:,::-1]"
   ]
  },
  {
   "cell_type": "code",
   "execution_count": null,
   "id": "c638a963",
   "metadata": {},
   "outputs": [],
   "source": [
    "# ERA5 data\n",
    "dg = tp.stack(point=('latitude', 'longitude')).groupby('point')"
   ]
  },
  {
   "cell_type": "code",
   "execution_count": null,
   "id": "7d77e5d0",
   "metadata": {},
   "outputs": [],
   "source": [
    "nu_year = pd.to_datetime( tp.time.values).year.unique().size\n",
    "spi_args = {\n",
    "        'scale': 3,\n",
    "        'distribution': indices.Distribution.gamma,\n",
    "        'data_start_year': 1,\n",
    "        'calibration_year_initial': 1,\n",
    "        'calibration_year_final': nu_year,\n",
    "        'periodicity': compute.Periodicity.monthly\n",
    "}"
   ]
  },
  {
   "cell_type": "code",
   "execution_count": null,
   "id": "51b04ee8",
   "metadata": {},
   "outputs": [],
   "source": [
    "da_spi = xr.apply_ufunc(\n",
    "    indices.spi,\n",
    "    dg,\n",
    "    dask=\"allowed\",\n",
    "    kwargs=spi_args,\n",
    ")"
   ]
  },
  {
   "cell_type": "code",
   "execution_count": null,
   "id": "655f8949",
   "metadata": {},
   "outputs": [],
   "source": [
    "da_spi = da_spi.unstack('point')"
   ]
  },
  {
   "cell_type": "code",
   "execution_count": null,
   "id": "b5cdb76c",
   "metadata": {},
   "outputs": [],
   "source": [
    "da_spi.to_netcdf('spi_3month.nc')"
   ]
  },
  {
   "cell_type": "code",
   "execution_count": null,
   "id": "cbac5f97",
   "metadata": {},
   "outputs": [],
   "source": []
  },
  {
   "cell_type": "code",
   "execution_count": null,
   "id": "2e8e85a8",
   "metadata": {},
   "outputs": [],
   "source": []
  },
  {
   "cell_type": "code",
   "execution_count": null,
   "id": "b33bce15",
   "metadata": {},
   "outputs": [],
   "source": []
  },
  {
   "cell_type": "code",
   "execution_count": null,
   "id": "391065b8",
   "metadata": {},
   "outputs": [],
   "source": []
  },
  {
   "cell_type": "code",
   "execution_count": null,
   "id": "99a0dac4",
   "metadata": {},
   "outputs": [],
   "source": []
  },
  {
   "cell_type": "code",
   "execution_count": null,
   "id": "47e778de",
   "metadata": {},
   "outputs": [],
   "source": []
  },
  {
   "cell_type": "code",
   "execution_count": null,
   "id": "b10019c6",
   "metadata": {},
   "outputs": [],
   "source": []
  },
  {
   "cell_type": "code",
   "execution_count": null,
   "id": "a504908d",
   "metadata": {},
   "outputs": [],
   "source": []
  },
  {
   "cell_type": "code",
   "execution_count": null,
   "id": "7b91cc3d",
   "metadata": {},
   "outputs": [],
   "source": []
  },
  {
   "cell_type": "code",
   "execution_count": null,
   "id": "d58cc59e",
   "metadata": {},
   "outputs": [],
   "source": []
  },
  {
   "cell_type": "code",
   "execution_count": null,
   "id": "ccd143ab",
   "metadata": {},
   "outputs": [],
   "source": []
  },
  {
   "cell_type": "code",
   "execution_count": null,
   "id": "535bd07a",
   "metadata": {},
   "outputs": [],
   "source": []
  },
  {
   "cell_type": "code",
   "execution_count": null,
   "id": "c7835017",
   "metadata": {},
   "outputs": [],
   "source": []
  },
  {
   "cell_type": "code",
   "execution_count": null,
   "id": "09d66704",
   "metadata": {},
   "outputs": [],
   "source": []
  },
  {
   "cell_type": "code",
   "execution_count": null,
   "id": "46651bd0",
   "metadata": {},
   "outputs": [],
   "source": []
  },
  {
   "cell_type": "code",
   "execution_count": null,
   "id": "4eb48b96",
   "metadata": {
    "lines_to_next_cell": 2
   },
   "outputs": [],
   "source": []
  }
 ],
 "metadata": {
  "jupytext": {
   "cell_metadata_filter": "-all",
   "formats": "ipynb,py:percent",
   "main_language": "python"
  }
 },
 "nbformat": 4,
 "nbformat_minor": 5
}
