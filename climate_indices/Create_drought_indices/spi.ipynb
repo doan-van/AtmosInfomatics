{
 "cells": [
  {
   "cell_type": "markdown",
   "id": "554c23cd-2ab5-4956-9306-12390f473a8b",
   "metadata": {},
   "source": [
    "# this script is to calculate drought index from climate data\n",
    "##\n",
    "\n",
    "https://climate-indices.readthedocs.io/en/latest/\n",
    "\n"
   ]
  },
  {
   "cell_type": "code",
   "execution_count": 1,
   "id": "d999659f",
   "metadata": {
    "tags": []
   },
   "outputs": [],
   "source": [
    "import sys, glob\n",
    "import numpy as np\n",
    "import xarray as xr\n",
    "import pandas as pd\n",
    "sys.path.insert(0, \"climindices/src\")\n",
    "from climate_indices import compute, indices, utils\n",
    "from climate_indices.compute import scale_values, Periodicity\n",
    "#=================="
   ]
  },
  {
   "cell_type": "code",
   "execution_count": null,
   "id": "f1b2b508",
   "metadata": {
    "lines_to_next_cell": 2
   },
   "outputs": [],
   "source": []
  },
  {
   "cell_type": "code",
   "execution_count": 2,
   "id": "8b1eac18",
   "metadata": {
    "tags": []
   },
   "outputs": [],
   "source": [
    "#==================\n",
    "# compute spi spei\n",
    "if 0:\n",
    "    ifiles = sorted(glob.glob('download/era/data/*.nc') )\n",
    "    \n",
    "    ds = xr.open_mfdataset(ifiles) #['tp']\n",
    "    do = ds.isel(longitude = np.arange(0,360,2), latitude = np.arange(0,181,2) )\n",
    "    do.to_netcdf('era5_2deg.nc')"
   ]
  },
  {
   "cell_type": "code",
   "execution_count": null,
   "id": "1c2d8c9e",
   "metadata": {},
   "outputs": [],
   "source": []
  },
  {
   "cell_type": "code",
   "execution_count": 3,
   "id": "dc2230ee",
   "metadata": {
    "tags": []
   },
   "outputs": [],
   "source": [
    "tp = xr.open_dataset('era5_2deg.nc')['tp'][:,::-1]"
   ]
  },
  {
   "cell_type": "code",
   "execution_count": 4,
   "id": "c638a963",
   "metadata": {
    "tags": []
   },
   "outputs": [],
   "source": [
    "# ERA5 data\n",
    "dg = tp.stack(point=('latitude', 'longitude')).groupby('point')"
   ]
  },
  {
   "cell_type": "code",
   "execution_count": 9,
   "id": "ff419e54-395a-4b10-ae7a-db151441c0b5",
   "metadata": {
    "tags": []
   },
   "outputs": [
    {
     "ename": "AttributeError",
     "evalue": "'DataArrayGroupBy' object has no attribute 'values'",
     "output_type": "error",
     "traceback": [
      "\u001b[0;31m---------------------------------------------------------------------------\u001b[0m",
      "\u001b[0;31mAttributeError\u001b[0m                            Traceback (most recent call last)",
      "Cell \u001b[0;32mIn[9], line 1\u001b[0m\n\u001b[0;32m----> 1\u001b[0m dg\u001b[38;5;241m.\u001b[39mvalues\n",
      "\u001b[0;31mAttributeError\u001b[0m: 'DataArrayGroupBy' object has no attribute 'values'"
     ]
    }
   ],
   "source": [
    "#dg.values"
   ]
  },
  {
   "cell_type": "code",
   "execution_count": 5,
   "id": "7d77e5d0",
   "metadata": {
    "lines_to_next_cell": 0,
    "tags": []
   },
   "outputs": [],
   "source": [
    "nu_year = pd.to_datetime( tp.time.values).year.unique().size\n",
    "spi_args = {\n",
    "        'scale': 3,\n",
    "        'distribution': indices.Distribution.gamma,\n",
    "        'data_start_year': 1,\n",
    "        'calibration_year_initial': 1,\n",
    "        'calibration_year_final': nu_year,\n",
    "        'periodicity': compute.Periodicity.monthly\n",
    "}\n",
    "\n",
    "#x = dg.values.reshape(dg.shape[0], -1)"
   ]
  },
  {
   "cell_type": "code",
   "execution_count": 8,
   "id": "51b04ee8",
   "metadata": {
    "tags": []
   },
   "outputs": [
    {
     "ename": "TypingError",
     "evalue": "Failed in nopython mode pipeline (step: nopython frontend)\n\u001b[1mUntyped global name '_logger':\u001b[0m \u001b[1m\u001b[1mCannot determine Numba type of <class 'logging.Logger'>\u001b[0m\n\u001b[1m\nFile \"climindices/src/climate_indices/indices.py\", line 116:\u001b[0m\n\u001b[1mdef spi(\n    <source elided>\n        message = f\"Invalid shape of input array: {shape} -- only 1-D and 2-D arrays are supported\"\n\u001b[1m        _logger.error(message)\n\u001b[0m        \u001b[1m^\u001b[0m\u001b[0m\n\u001b[0m",
     "output_type": "error",
     "traceback": [
      "\u001b[0;31m---------------------------------------------------------------------------\u001b[0m",
      "\u001b[0;31mTypingError\u001b[0m                               Traceback (most recent call last)",
      "Cell \u001b[0;32mIn[8], line 1\u001b[0m\n\u001b[0;32m----> 1\u001b[0m da_spi \u001b[38;5;241m=\u001b[39m xr\u001b[38;5;241m.\u001b[39mapply_ufunc(\n\u001b[1;32m      2\u001b[0m     indices\u001b[38;5;241m.\u001b[39mspi,\n\u001b[1;32m      3\u001b[0m     dg,\n\u001b[1;32m      4\u001b[0m     dask\u001b[38;5;241m=\u001b[39m\u001b[38;5;124m\"\u001b[39m\u001b[38;5;124mallowed\u001b[39m\u001b[38;5;124m\"\u001b[39m,\n\u001b[1;32m      5\u001b[0m     kwargs\u001b[38;5;241m=\u001b[39mspi_args,\n\u001b[1;32m      6\u001b[0m )\n",
      "File \u001b[0;32m~/anaconda3/lib/python3.11/site-packages/xarray/core/computation.py:1182\u001b[0m, in \u001b[0;36mapply_ufunc\u001b[0;34m(func, input_core_dims, output_core_dims, exclude_dims, vectorize, join, dataset_join, dataset_fill_value, keep_attrs, kwargs, dask, output_dtypes, output_sizes, meta, dask_gufunc_kwargs, *args)\u001b[0m\n\u001b[1;32m   1166\u001b[0m \u001b[38;5;28;01mif\u001b[39;00m \u001b[38;5;28many\u001b[39m(\u001b[38;5;28misinstance\u001b[39m(a, GroupBy) \u001b[38;5;28;01mfor\u001b[39;00m a \u001b[38;5;129;01min\u001b[39;00m args):\n\u001b[1;32m   1167\u001b[0m     this_apply \u001b[38;5;241m=\u001b[39m functools\u001b[38;5;241m.\u001b[39mpartial(\n\u001b[1;32m   1168\u001b[0m         apply_ufunc,\n\u001b[1;32m   1169\u001b[0m         func,\n\u001b[0;32m   (...)\u001b[0m\n\u001b[1;32m   1180\u001b[0m         dask_gufunc_kwargs\u001b[38;5;241m=\u001b[39mdask_gufunc_kwargs,\n\u001b[1;32m   1181\u001b[0m     )\n\u001b[0;32m-> 1182\u001b[0m     \u001b[38;5;28;01mreturn\u001b[39;00m apply_groupby_func(this_apply, \u001b[38;5;241m*\u001b[39margs)\n\u001b[1;32m   1183\u001b[0m \u001b[38;5;66;03m# feed datasets apply_variable_ufunc through apply_dataset_vfunc\u001b[39;00m\n\u001b[1;32m   1184\u001b[0m \u001b[38;5;28;01melif\u001b[39;00m \u001b[38;5;28many\u001b[39m(is_dict_like(a) \u001b[38;5;28;01mfor\u001b[39;00m a \u001b[38;5;129;01min\u001b[39;00m args):\n",
      "File \u001b[0;32m~/anaconda3/lib/python3.11/site-packages/xarray/core/computation.py:547\u001b[0m, in \u001b[0;36mapply_groupby_func\u001b[0;34m(func, *args)\u001b[0m\n\u001b[1;32m    544\u001b[0m     iterators\u001b[38;5;241m.\u001b[39mappend(iterator)\n\u001b[1;32m    546\u001b[0m applied \u001b[38;5;241m=\u001b[39m (func(\u001b[38;5;241m*\u001b[39mzipped_args) \u001b[38;5;28;01mfor\u001b[39;00m zipped_args \u001b[38;5;129;01min\u001b[39;00m \u001b[38;5;28mzip\u001b[39m(\u001b[38;5;241m*\u001b[39miterators))\n\u001b[0;32m--> 547\u001b[0m applied_example, applied \u001b[38;5;241m=\u001b[39m peek_at(applied)\n\u001b[1;32m    548\u001b[0m combine \u001b[38;5;241m=\u001b[39m first_groupby\u001b[38;5;241m.\u001b[39m_combine\n\u001b[1;32m    549\u001b[0m \u001b[38;5;28;01mif\u001b[39;00m \u001b[38;5;28misinstance\u001b[39m(applied_example, \u001b[38;5;28mtuple\u001b[39m):\n",
      "File \u001b[0;32m~/anaconda3/lib/python3.11/site-packages/xarray/core/utils.py:188\u001b[0m, in \u001b[0;36mpeek_at\u001b[0;34m(iterable)\u001b[0m\n\u001b[1;32m    184\u001b[0m \u001b[38;5;250m\u001b[39m\u001b[38;5;124;03m\"\"\"Returns the first value from iterable, as well as a new iterator with\u001b[39;00m\n\u001b[1;32m    185\u001b[0m \u001b[38;5;124;03mthe same content as the original iterable\u001b[39;00m\n\u001b[1;32m    186\u001b[0m \u001b[38;5;124;03m\"\"\"\u001b[39;00m\n\u001b[1;32m    187\u001b[0m gen \u001b[38;5;241m=\u001b[39m \u001b[38;5;28miter\u001b[39m(iterable)\n\u001b[0;32m--> 188\u001b[0m peek \u001b[38;5;241m=\u001b[39m \u001b[38;5;28mnext\u001b[39m(gen)\n\u001b[1;32m    189\u001b[0m \u001b[38;5;28;01mreturn\u001b[39;00m peek, itertools\u001b[38;5;241m.\u001b[39mchain([peek], gen)\n",
      "File \u001b[0;32m~/anaconda3/lib/python3.11/site-packages/xarray/core/computation.py:546\u001b[0m, in \u001b[0;36m<genexpr>\u001b[0;34m(.0)\u001b[0m\n\u001b[1;32m    543\u001b[0m         iterator \u001b[38;5;241m=\u001b[39m itertools\u001b[38;5;241m.\u001b[39mrepeat(arg)\n\u001b[1;32m    544\u001b[0m     iterators\u001b[38;5;241m.\u001b[39mappend(iterator)\n\u001b[0;32m--> 546\u001b[0m applied \u001b[38;5;241m=\u001b[39m (func(\u001b[38;5;241m*\u001b[39mzipped_args) \u001b[38;5;28;01mfor\u001b[39;00m zipped_args \u001b[38;5;129;01min\u001b[39;00m \u001b[38;5;28mzip\u001b[39m(\u001b[38;5;241m*\u001b[39miterators))\n\u001b[1;32m    547\u001b[0m applied_example, applied \u001b[38;5;241m=\u001b[39m peek_at(applied)\n\u001b[1;32m    548\u001b[0m combine \u001b[38;5;241m=\u001b[39m first_groupby\u001b[38;5;241m.\u001b[39m_combine\n",
      "File \u001b[0;32m~/anaconda3/lib/python3.11/site-packages/xarray/core/computation.py:1197\u001b[0m, in \u001b[0;36mapply_ufunc\u001b[0;34m(func, input_core_dims, output_core_dims, exclude_dims, vectorize, join, dataset_join, dataset_fill_value, keep_attrs, kwargs, dask, output_dtypes, output_sizes, meta, dask_gufunc_kwargs, *args)\u001b[0m\n\u001b[1;32m   1195\u001b[0m \u001b[38;5;66;03m# feed DataArray apply_variable_ufunc through apply_dataarray_vfunc\u001b[39;00m\n\u001b[1;32m   1196\u001b[0m \u001b[38;5;28;01melif\u001b[39;00m \u001b[38;5;28many\u001b[39m(\u001b[38;5;28misinstance\u001b[39m(a, DataArray) \u001b[38;5;28;01mfor\u001b[39;00m a \u001b[38;5;129;01min\u001b[39;00m args):\n\u001b[0;32m-> 1197\u001b[0m     \u001b[38;5;28;01mreturn\u001b[39;00m apply_dataarray_vfunc(\n\u001b[1;32m   1198\u001b[0m         variables_vfunc,\n\u001b[1;32m   1199\u001b[0m         \u001b[38;5;241m*\u001b[39margs,\n\u001b[1;32m   1200\u001b[0m         signature\u001b[38;5;241m=\u001b[39msignature,\n\u001b[1;32m   1201\u001b[0m         join\u001b[38;5;241m=\u001b[39mjoin,\n\u001b[1;32m   1202\u001b[0m         exclude_dims\u001b[38;5;241m=\u001b[39mexclude_dims,\n\u001b[1;32m   1203\u001b[0m         keep_attrs\u001b[38;5;241m=\u001b[39mkeep_attrs,\n\u001b[1;32m   1204\u001b[0m     )\n\u001b[1;32m   1205\u001b[0m \u001b[38;5;66;03m# feed Variables directly through apply_variable_ufunc\u001b[39;00m\n\u001b[1;32m   1206\u001b[0m \u001b[38;5;28;01melif\u001b[39;00m \u001b[38;5;28many\u001b[39m(\u001b[38;5;28misinstance\u001b[39m(a, Variable) \u001b[38;5;28;01mfor\u001b[39;00m a \u001b[38;5;129;01min\u001b[39;00m args):\n",
      "File \u001b[0;32m~/anaconda3/lib/python3.11/site-packages/xarray/core/computation.py:304\u001b[0m, in \u001b[0;36mapply_dataarray_vfunc\u001b[0;34m(func, signature, join, exclude_dims, keep_attrs, *args)\u001b[0m\n\u001b[1;32m    299\u001b[0m result_coords, result_indexes \u001b[38;5;241m=\u001b[39m build_output_coords_and_indexes(\n\u001b[1;32m    300\u001b[0m     args, signature, exclude_dims, combine_attrs\u001b[38;5;241m=\u001b[39mkeep_attrs\n\u001b[1;32m    301\u001b[0m )\n\u001b[1;32m    303\u001b[0m data_vars \u001b[38;5;241m=\u001b[39m [\u001b[38;5;28mgetattr\u001b[39m(a, \u001b[38;5;124m\"\u001b[39m\u001b[38;5;124mvariable\u001b[39m\u001b[38;5;124m\"\u001b[39m, a) \u001b[38;5;28;01mfor\u001b[39;00m a \u001b[38;5;129;01min\u001b[39;00m args]\n\u001b[0;32m--> 304\u001b[0m result_var \u001b[38;5;241m=\u001b[39m func(\u001b[38;5;241m*\u001b[39mdata_vars)\n\u001b[1;32m    306\u001b[0m out: \u001b[38;5;28mtuple\u001b[39m[DataArray, \u001b[38;5;241m.\u001b[39m\u001b[38;5;241m.\u001b[39m\u001b[38;5;241m.\u001b[39m] \u001b[38;5;241m|\u001b[39m DataArray\n\u001b[1;32m    307\u001b[0m \u001b[38;5;28;01mif\u001b[39;00m signature\u001b[38;5;241m.\u001b[39mnum_outputs \u001b[38;5;241m>\u001b[39m \u001b[38;5;241m1\u001b[39m:\n",
      "File \u001b[0;32m~/anaconda3/lib/python3.11/site-packages/xarray/core/computation.py:761\u001b[0m, in \u001b[0;36mapply_variable_ufunc\u001b[0;34m(func, signature, exclude_dims, dask, output_dtypes, vectorize, keep_attrs, dask_gufunc_kwargs, *args)\u001b[0m\n\u001b[1;32m    756\u001b[0m     \u001b[38;5;28;01mif\u001b[39;00m vectorize:\n\u001b[1;32m    757\u001b[0m         func \u001b[38;5;241m=\u001b[39m _vectorize(\n\u001b[1;32m    758\u001b[0m             func, signature, output_dtypes\u001b[38;5;241m=\u001b[39moutput_dtypes, exclude_dims\u001b[38;5;241m=\u001b[39mexclude_dims\n\u001b[1;32m    759\u001b[0m         )\n\u001b[0;32m--> 761\u001b[0m result_data \u001b[38;5;241m=\u001b[39m func(\u001b[38;5;241m*\u001b[39minput_data)\n\u001b[1;32m    763\u001b[0m \u001b[38;5;28;01mif\u001b[39;00m signature\u001b[38;5;241m.\u001b[39mnum_outputs \u001b[38;5;241m==\u001b[39m \u001b[38;5;241m1\u001b[39m:\n\u001b[1;32m    764\u001b[0m     result_data \u001b[38;5;241m=\u001b[39m (result_data,)\n",
      "File \u001b[0;32m~/anaconda3/lib/python3.11/site-packages/numba/core/dispatcher.py:468\u001b[0m, in \u001b[0;36m_DispatcherBase._compile_for_args\u001b[0;34m(self, *args, **kws)\u001b[0m\n\u001b[1;32m    464\u001b[0m         msg \u001b[38;5;241m=\u001b[39m (\u001b[38;5;124mf\u001b[39m\u001b[38;5;124m\"\u001b[39m\u001b[38;5;132;01m{\u001b[39;00m\u001b[38;5;28mstr\u001b[39m(e)\u001b[38;5;241m.\u001b[39mrstrip()\u001b[38;5;132;01m}\u001b[39;00m\u001b[38;5;124m \u001b[39m\u001b[38;5;130;01m\\n\u001b[39;00m\u001b[38;5;130;01m\\n\u001b[39;00m\u001b[38;5;124mThis error may have been caused \u001b[39m\u001b[38;5;124m\"\u001b[39m\n\u001b[1;32m    465\u001b[0m                \u001b[38;5;124mf\u001b[39m\u001b[38;5;124m\"\u001b[39m\u001b[38;5;124mby the following argument(s):\u001b[39m\u001b[38;5;130;01m\\n\u001b[39;00m\u001b[38;5;132;01m{\u001b[39;00margs_str\u001b[38;5;132;01m}\u001b[39;00m\u001b[38;5;130;01m\\n\u001b[39;00m\u001b[38;5;124m\"\u001b[39m)\n\u001b[1;32m    466\u001b[0m         e\u001b[38;5;241m.\u001b[39mpatch_message(msg)\n\u001b[0;32m--> 468\u001b[0m     error_rewrite(e, \u001b[38;5;124m'\u001b[39m\u001b[38;5;124mtyping\u001b[39m\u001b[38;5;124m'\u001b[39m)\n\u001b[1;32m    469\u001b[0m \u001b[38;5;28;01mexcept\u001b[39;00m errors\u001b[38;5;241m.\u001b[39mUnsupportedError \u001b[38;5;28;01mas\u001b[39;00m e:\n\u001b[1;32m    470\u001b[0m     \u001b[38;5;66;03m# Something unsupported is present in the user code, add help info\u001b[39;00m\n\u001b[1;32m    471\u001b[0m     error_rewrite(e, \u001b[38;5;124m'\u001b[39m\u001b[38;5;124munsupported_error\u001b[39m\u001b[38;5;124m'\u001b[39m)\n",
      "File \u001b[0;32m~/anaconda3/lib/python3.11/site-packages/numba/core/dispatcher.py:409\u001b[0m, in \u001b[0;36m_DispatcherBase._compile_for_args.<locals>.error_rewrite\u001b[0;34m(e, issue_type)\u001b[0m\n\u001b[1;32m    407\u001b[0m     \u001b[38;5;28;01mraise\u001b[39;00m e\n\u001b[1;32m    408\u001b[0m \u001b[38;5;28;01melse\u001b[39;00m:\n\u001b[0;32m--> 409\u001b[0m     \u001b[38;5;28;01mraise\u001b[39;00m e\u001b[38;5;241m.\u001b[39mwith_traceback(\u001b[38;5;28;01mNone\u001b[39;00m)\n",
      "\u001b[0;31mTypingError\u001b[0m: Failed in nopython mode pipeline (step: nopython frontend)\n\u001b[1mUntyped global name '_logger':\u001b[0m \u001b[1m\u001b[1mCannot determine Numba type of <class 'logging.Logger'>\u001b[0m\n\u001b[1m\nFile \"climindices/src/climate_indices/indices.py\", line 116:\u001b[0m\n\u001b[1mdef spi(\n    <source elided>\n        message = f\"Invalid shape of input array: {shape} -- only 1-D and 2-D arrays are supported\"\n\u001b[1m        _logger.error(message)\n\u001b[0m        \u001b[1m^\u001b[0m\u001b[0m\n\u001b[0m"
     ]
    }
   ],
   "source": [
    "da_spi = xr.apply_ufunc(\n",
    "    indices.spi,\n",
    "    dg,\n",
    "    dask=\"allowed\",\n",
    "    kwargs=spi_args,\n",
    ")"
   ]
  },
  {
   "cell_type": "code",
   "execution_count": null,
   "id": "655f8949",
   "metadata": {
    "tags": []
   },
   "outputs": [],
   "source": [
    "da_spi = da_spi.unstack('point')"
   ]
  },
  {
   "cell_type": "code",
   "execution_count": null,
   "id": "b5cdb76c",
   "metadata": {
    "tags": []
   },
   "outputs": [],
   "source": [
    "da_spi.to_netcdf('spi_3month.nc')"
   ]
  },
  {
   "cell_type": "code",
   "execution_count": null,
   "id": "cbac5f97",
   "metadata": {
    "lines_to_next_cell": 2,
    "tags": []
   },
   "outputs": [],
   "source": [
    "da_spi"
   ]
  },
  {
   "cell_type": "code",
   "execution_count": null,
   "id": "2e8e85a8",
   "metadata": {},
   "outputs": [],
   "source": []
  },
  {
   "cell_type": "code",
   "execution_count": null,
   "id": "b33bce15",
   "metadata": {},
   "outputs": [],
   "source": []
  },
  {
   "cell_type": "code",
   "execution_count": null,
   "id": "391065b8",
   "metadata": {},
   "outputs": [],
   "source": []
  },
  {
   "cell_type": "code",
   "execution_count": null,
   "id": "99a0dac4",
   "metadata": {},
   "outputs": [],
   "source": []
  },
  {
   "cell_type": "code",
   "execution_count": null,
   "id": "47e778de",
   "metadata": {},
   "outputs": [],
   "source": []
  },
  {
   "cell_type": "code",
   "execution_count": null,
   "id": "b10019c6",
   "metadata": {},
   "outputs": [],
   "source": []
  },
  {
   "cell_type": "code",
   "execution_count": null,
   "id": "a504908d",
   "metadata": {},
   "outputs": [],
   "source": []
  },
  {
   "cell_type": "code",
   "execution_count": null,
   "id": "7b91cc3d",
   "metadata": {},
   "outputs": [],
   "source": []
  },
  {
   "cell_type": "code",
   "execution_count": null,
   "id": "d58cc59e",
   "metadata": {},
   "outputs": [],
   "source": []
  },
  {
   "cell_type": "code",
   "execution_count": null,
   "id": "ccd143ab",
   "metadata": {},
   "outputs": [],
   "source": []
  },
  {
   "cell_type": "code",
   "execution_count": null,
   "id": "535bd07a",
   "metadata": {},
   "outputs": [],
   "source": []
  },
  {
   "cell_type": "code",
   "execution_count": null,
   "id": "c7835017",
   "metadata": {},
   "outputs": [],
   "source": []
  },
  {
   "cell_type": "code",
   "execution_count": null,
   "id": "09d66704",
   "metadata": {},
   "outputs": [],
   "source": []
  },
  {
   "cell_type": "code",
   "execution_count": null,
   "id": "46651bd0",
   "metadata": {},
   "outputs": [],
   "source": []
  },
  {
   "cell_type": "code",
   "execution_count": null,
   "id": "4eb48b96",
   "metadata": {
    "lines_to_next_cell": 2
   },
   "outputs": [],
   "source": []
  }
 ],
 "metadata": {
  "jupytext": {
   "cell_metadata_filter": "-all",
   "formats": "ipynb,py:percent"
  },
  "kernelspec": {
   "display_name": "Python 3 (ipykernel)",
   "language": "python",
   "name": "python3"
  },
  "language_info": {
   "codemirror_mode": {
    "name": "ipython",
    "version": 3
   },
   "file_extension": ".py",
   "mimetype": "text/x-python",
   "name": "python",
   "nbconvert_exporter": "python",
   "pygments_lexer": "ipython3",
   "version": "3.11.8"
  }
 },
 "nbformat": 4,
 "nbformat_minor": 5
}
