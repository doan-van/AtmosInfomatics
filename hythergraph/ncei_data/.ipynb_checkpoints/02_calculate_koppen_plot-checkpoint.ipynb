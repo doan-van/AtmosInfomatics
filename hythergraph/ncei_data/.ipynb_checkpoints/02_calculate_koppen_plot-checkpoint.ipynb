{
 "cells": [
  {
   "cell_type": "code",
   "execution_count": null,
   "id": "80bcab38",
   "metadata": {
    "lines_to_next_cell": 2
   },
   "outputs": [],
   "source": [
    "\"\"\"\n",
    "Created on Sun May 24 14:03:15 2020\n",
    "\n",
    "@author: doan\n",
    "\"\"\""
   ]
  },
  {
   "cell_type": "code",
   "execution_count": null,
   "id": "6748e197",
   "metadata": {},
   "outputs": [],
   "source": [
    "!/usr/bin/env python\n",
    "# -*- coding: utf-8 -*-"
   ]
  },
  {
   "cell_type": "code",
   "execution_count": null,
   "id": "11d09794",
   "metadata": {},
   "outputs": [],
   "source": [
    "import numpy as np\n",
    "import pandas as pd\n",
    "#from mpl_toolkits.basemap import Basemap\n",
    "import matplotlib.pyplot as plt\n",
    "from matplotlib.colors import Normalize, LinearSegmentedColormap, PowerNorm\n",
    "import sys"
   ]
  },
  {
   "cell_type": "code",
   "execution_count": null,
   "id": "989e115b",
   "metadata": {},
   "outputs": [],
   "source": []
  },
  {
   "cell_type": "code",
   "execution_count": null,
   "id": "d4c4b035",
   "metadata": {
    "lines_to_next_cell": 2
   },
   "outputs": [],
   "source": [
    "import matplotlib.pyplot as plt\n",
    "import cartopy.crs as ccrs\n",
    "import cartopy"
   ]
  },
  {
   "cell_type": "code",
   "execution_count": null,
   "id": "74618422",
   "metadata": {
    "lines_to_next_cell": 2
   },
   "outputs": [],
   "source": [
    "if 1:\n",
    "    \n",
    "    df = pd.read_csv('latlon.csv', index_col=0)\n",
    "    lat, lon = df['latitude'].values, df['longitude'].values\n",
    "    lon = np.where(lon<0, lon+360, lon)\n",
    "    proj = ccrs.PlateCarree(central_longitude=150)\n",
    "    #proj._threshold /= 10\n",
    "    #proj = ccrs.Robinson(central_longitude=145)\n",
    "    #proj = ccrs.Mollweide(central_longitude=145, globe=None)\n",
    "    \n",
    "\n",
    "    plt.figure(figsize=(10, 6))\n",
    "    ax = plt.axes(projection= proj )\n",
    "    \n",
    "    ax.set_extent([-90, 300, -65, 75], crs=ccrs.PlateCarree())\n",
    "    \n",
    "    #ax.coastlines() #resolution='10m',lw=.1)\n",
    "    #sys.exit()\n",
    "    #ax.gridlines()\n",
    "    ax.stock_img()\n",
    "    ax.scatter(lon, lat, s = 1, \n",
    "               color = 'r',\n",
    "               transform=ccrs.Geodetic())\n",
    "    #ax.add_feature(cartopy.feature.BORDERS, linestyle='-', alpha=.5,lw=.3)\n",
    "    #ax.outline_patch.set_linewidth(.5)\n",
    "    #sys.exit()\n",
    "    plt.savefig('city_map.png', dpi = 100)"
   ]
  },
  {
   "cell_type": "code",
   "execution_count": null,
   "id": "0dbe51a8",
   "metadata": {},
   "outputs": [],
   "source": [
    "if 0:\n",
    "    \n",
    "    df = pd.read_csv('latlon.csv', index_col=4)\n",
    "    \n",
    "    for dx in list(df.groupby(df.index))[:]:\n",
    "        country, d = dx\n",
    "        print(d)\n",
    "        lat, lon = d['latitude'].values, d['longitude'].values\n",
    "        \n",
    "        #lon = np.where(lon<0, lon+360, lon)\n",
    "        proj = ccrs.PlateCarree(central_longitude=150)\n",
    "    \n",
    "\n",
    "        plt.figure(figsize=(10, 6))\n",
    "        ax = plt.axes(projection= proj )\n",
    "        extent = [ lon.min() - 5, lon.max()+5, lat.min() - 5, lat.max()+5]\n",
    "    \n",
    "        ax.set_extent(extent, crs=ccrs.PlateCarree())\n",
    "    \n",
    "        ax.stock_img()\n",
    "        \n",
    "        for i, r in d.iterrows():\n",
    "            la, lo = r['latitude'], r['longitude']\n",
    "            #ax.scatter(lo, la, s = 10, color = 'r',transform=ccrs.Geodetic())\n",
    "\n",
    "            ax.text(lo, la, r['city'], \n",
    "                   color = 'r',\n",
    "                   ha = 'center',\n",
    "                   fontsize=12,\n",
    "                   transform=ccrs.Geodetic())\n",
    "            \n",
    "        plt.savefig('fig/'+country+'/'+'city_map.png', dpi = 100)\n",
    "        \n",
    "        #ax.add_feature(cartopy.feature.BORDERS, linestyle='-', alpha=.5,lw=.3)\n",
    "        #ax.outline_patch.set_linewidth(.5)\n",
    "    #sys.exit()\n",
    "    #plt.savefig('city_map.png', dpi = 100)"
   ]
  },
  {
   "cell_type": "code",
   "execution_count": null,
   "id": "cdf4c3d9",
   "metadata": {},
   "outputs": [],
   "source": []
  },
  {
   "cell_type": "code",
   "execution_count": null,
   "id": "dafbdcc5",
   "metadata": {
    "lines_to_next_cell": 2
   },
   "outputs": [],
   "source": []
  }
 ],
 "metadata": {
  "jupytext": {
   "cell_metadata_filter": "-all",
   "encoding": "# -*- coding: utf-8 -*-",
   "executable": "/usr/bin/env python3",
   "formats": "ipynb,py:percent",
   "main_language": "python"
  },
  "kernelspec": {
   "display_name": "Python 3 (ipykernel)",
   "language": "python",
   "name": "python3"
  },
  "language_info": {
   "codemirror_mode": {
    "name": "ipython",
    "version": 3
   },
   "file_extension": ".py",
   "mimetype": "text/x-python",
   "name": "python",
   "nbconvert_exporter": "python",
   "pygments_lexer": "ipython3",
   "version": "3.11.8"
  }
 },
 "nbformat": 4,
 "nbformat_minor": 5
}
