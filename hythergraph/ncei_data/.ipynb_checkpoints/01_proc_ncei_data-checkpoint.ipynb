{
 "cells": [
  {
   "cell_type": "markdown",
   "id": "2e5bbf2c-4060-4f74-ae5c-b1dcd1f2cf64",
   "metadata": {},
   "source": []
  },
  {
   "cell_type": "code",
   "execution_count": 3,
   "id": "f41ddc2e",
   "metadata": {
    "lines_to_next_cell": 2,
    "tags": []
   },
   "outputs": [],
   "source": [
    "import sys, os, glob\n",
    "import pandas as pd\n",
    "import json\n",
    "import matplotlib.pyplot as plt"
   ]
  },
  {
   "cell_type": "code",
   "execution_count": 4,
   "id": "776a0567",
   "metadata": {
    "tags": []
   },
   "outputs": [],
   "source": [
    "idir = 'download/'\n",
    "ff = glob.glob(idir+'*.json')"
   ]
  },
  {
   "cell_type": "code",
   "execution_count": 14,
   "id": "9e0b271c",
   "metadata": {
    "tags": []
   },
   "outputs": [
    {
     "name": "stdout",
     "output_type": "stream",
     "text": [
      "            Country     City\n",
      "CityId                      \n",
      "1183.0  Afghanistan    Herat\n",
      "219.0   Afghanistan    Kabul\n",
      "242.0       Algeria  Algiers\n",
      "1434.0      Algeria   Annaba\n",
      "1435.0      Algeria   Bechar\n"
     ]
    }
   ],
   "source": [
    "a = pd.read_csv('list_id.csv', index_col=2)\n",
    "print(a.head())"
   ]
  },
  {
   "cell_type": "code",
   "execution_count": 6,
   "id": "1d3b5890",
   "metadata": {
    "tags": []
   },
   "outputs": [],
   "source": [
    "def plot_hythergraph(temperature_max, temperature_min, precipitation, title):\n",
    "    # plotting\n",
    "    # Example monthly climate data\n",
    "    months = [\"Jan\", \"Feb\", \"Mar\", \"Apr\", \"May\", \"Jun\", \"Jul\", \"Aug\", \"Sep\", \"Oct\", \"Nov\", \"Dec\"]\n",
    "    lab1, lab2, lab3 = 'Max Temperature (°C)', 'Min Temperature (°C)', 'Precipitation (mm)'\n",
    "    tit1 = 'Hythergraph: Monthly Temperature and Precipitation\\n'\n",
    "    xlab, ylab1, ylab2 = 'Month', 'Temperature (°C)', 'Precipitation (mm)'\n",
    "\n",
    "\n",
    "    # Create figure and axis\n",
    "    fig = plt.figure(figsize= [6,4] )\n",
    "    ax1 = plt.axes( [.15,.2,.7,.7] )\n",
    "\n",
    "    # Plot temperature data\n",
    "    ax1.plot(months, temperature_max, 'o--', color='darkred', label=lab1)\n",
    "    ax1.plot(months, temperature_min, 'o--', color='lightcoral', label=lab2)\n",
    "    ax1.set_xlabel(xlab)\n",
    "    ax1.set_ylabel(ylab1, color='red')\n",
    "    ax1.tick_params(axis='y', labelcolor='red')\n",
    "\n",
    "    # Create a second y-axis to plot precipitation\n",
    "    ax2 = ax1.twinx()\n",
    "    ax2.bar(months, precipitation, alpha=0.3, color='green', label=lab3)\n",
    "    ax2.set_ylabel(ylab2, color='green')\n",
    "    ax2.tick_params(axis='y', labelcolor='green')\n",
    "\n",
    "    # Add title and show plot\n",
    "\n",
    "    plt.title(title)\n",
    "\n",
    "    fig.legend(loc='lower left', \n",
    "               fontsize=8,\n",
    "               ncols = 3, bbox_to_anchor=(0.1, -0.0))\n",
    "\n",
    "\n",
    "    fig.tight_layout()\n",
    "    plt.savefig(ofilep, dpi = 100)        \n",
    "    #plt.close()"
   ]
  },
  {
   "cell_type": "code",
   "execution_count": 16,
   "id": "dca18cfe-596d-4ce3-b8b9-5d64930d065f",
   "metadata": {
    "tags": []
   },
   "outputs": [
    {
     "name": "stdout",
     "output_type": "stream",
     "text": [
      "['download/3289_en.json', 'download/2783_en.json']\n"
     ]
    }
   ],
   "source": [
    "print(ff[:2])"
   ]
  },
  {
   "cell_type": "code",
   "execution_count": 22,
   "id": "d9449126",
   "metadata": {
    "tags": []
   },
   "outputs": [
    {
     "name": "stdout",
     "output_type": "stream",
     "text": [
      "Kab. Ndunga Indonesia\n",
      "{'city': {'lang': 'en', 'cityName': 'Kab. Ndunga', 'cityLatitude': '-4.498730000', 'cityLongitude': '138.417300000', 'cityId': 3289, 'isCapital': False, 'stationName': 'Kab. Ndunga', 'tourismURL': '', 'tourismBoardName': '', 'isDep': False, 'timeZone': '+0900', 'isDST': 'N', 'member': {'memId': 43, 'memName': 'Indonesia', 'shortMemName': '', 'url': 'www.bmkg.go.id', 'orgName': 'Meteorological, Climatological and Geophysical Agency (BMKG)', 'logo': 'indonesia_logo.png', 'ra': 5}, 'forecast': {'issueDate': '2024-07-19 09:32:07', 'timeZone': 'Local', 'forecastDay': [{'forecastDate': '2024-07-20', 'wxdesc': '', 'weather': 'Light Rain', 'minTemp': '16', 'maxTemp': '24', 'minTempF': '61', 'maxTempF': '75', 'weatherIcon': 1502}, {'forecastDate': '2024-07-21', 'wxdesc': '', 'weather': 'Mostly Cloudy', 'minTemp': '16', 'maxTemp': '24', 'minTempF': '61', 'maxTempF': '75', 'weatherIcon': 2302}]}, 'climate': {'raintype': 'N/A', 'raindef': '', 'rainunit': '', 'datab': '', 'datae': '', 'tempb': '', 'tempe': '', 'rdayb': '', 'rdaye': '', 'rainfallb': '', 'rainfalle': '', 'climatefromclino': '', 'climateMonth': []}}}\n",
      "have problem\n"
     ]
    }
   ],
   "source": [
    "lalo = []\n",
    "for f in ff[:1]:\n",
    "    cindex = float(f.split('/')[1].split('_')[0])\n",
    "    \n",
    "    b = a.loc[cindex]\n",
    "    city, country = b['City'], b['Country']\n",
    "    print(city, country)\n",
    "    \n",
    "    try:\n",
    "        \n",
    "        with open(f) as json_file:\n",
    "            d = json.load(json_file)\n",
    "        print(d)\n",
    "        \n",
    "        df = pd.DataFrame(  d['city']['climate']['climateMonth']).set_index('month')\n",
    "        print(df)\n",
    "        lat, lon = float(d['city'][ 'cityLatitude' ]), float(d['city'][ 'cityLongitude' ])\n",
    "        lalo.append( [cindex, lat, lon, b['City'], b['Country'] ] )\n",
    "        \n",
    "        do = pd.DataFrame( [ pd.to_numeric(df[c], errors='coerce' ) for c in [ 'maxTemp', 'minTemp', 'meanTemp', 'rainfall'] ]).T\n",
    "        \n",
    "        odir1 = 'data/'+country+'/'\n",
    "        odir2 = 'fig/'+country+'/'\n",
    "        for odir in [odir1, odir2]: \n",
    "            if not os.path.exists(odir): os.makedirs(odir)\n",
    "        \n",
    "\n",
    "        ofile = odir1 + '/%.0f'% cindex+ '_'+city+  '.csv'\n",
    "        ofilep = odir2 + '/%.0f'% cindex+ '_'+city+  '.png'\n",
    "        \n",
    "        do.to_csv(ofile)\n",
    "        \n",
    "    \n",
    "        if 1:\n",
    "            temperature_max = do.maxTemp.values\n",
    "            temperature_min = do.minTemp.values\n",
    "            precipitation = do.rainfall.values\n",
    "            title = tit1+b['City'] + ' ('+b['Country']+')'\n",
    "            plot_hythergraph(temperature_max, temperature_min, precipitation, title)\n",
    "\n",
    "    except:\n",
    "        print('have problem')"
   ]
  },
  {
   "cell_type": "code",
   "execution_count": null,
   "id": "782eb1ca",
   "metadata": {},
   "outputs": [],
   "source": [
    "dll = pd.DataFrame(lalo, columns=['cityindex', 'latitude', 'longitude', 'city', 'country']).set_index('cityindex')\n",
    "dll.to_csv('latlon.csv')"
   ]
  }
 ],
 "metadata": {
  "jupytext": {
   "cell_metadata_filter": "-all",
   "encoding": "# -*- coding: utf-8 -*-",
   "executable": "/usr/bin/env python3",
   "formats": "ipynb,py:percent",
   "main_language": "python"
  },
  "kernelspec": {
   "display_name": "Python 3 (ipykernel)",
   "language": "python",
   "name": "python3"
  },
  "language_info": {
   "codemirror_mode": {
    "name": "ipython",
    "version": 3
   },
   "file_extension": ".py",
   "mimetype": "text/x-python",
   "name": "python",
   "nbconvert_exporter": "python",
   "pygments_lexer": "ipython3",
   "version": "3.11.8"
  }
 },
 "nbformat": 4,
 "nbformat_minor": 5
}
