{
 "cells": [
  {
   "cell_type": "markdown",
   "id": "9cd4aca8-9b5d-4e3f-b90f-6215c6a99f96",
   "metadata": {},
   "source": [
    "# This is script to download json data from WMO homepage\n",
    "Created on Fri Jul 19 2024\n",
    "\n",
    "@author: Quang-Van Doan\n",
    "\n",
    "Homepage WMO\n",
    "https://worldweather.wmo.int/en/dataguide.html\n"
   ]
  },
  {
   "cell_type": "code",
   "execution_count": null,
   "id": "3b5dc594",
   "metadata": {
    "lines_to_next_cell": 2
   },
   "outputs": [],
   "source": [
    "import wget\n",
    "import sys, os, glob\n",
    "import pandas as pd\n",
    "import json"
   ]
  },
  {
   "cell_type": "code",
   "execution_count": null,
   "id": "094cd373",
   "metadata": {},
   "outputs": [],
   "source": [
    "path = 'download/'"
   ]
  },
  {
   "cell_type": "code",
   "execution_count": null,
   "id": "4e7487d1",
   "metadata": {},
   "outputs": [],
   "source": [
    "if 0:\n",
    "    a = wget.download('https://worldweather.wmo.int/en/json/full_city_list.txt')\n",
    "    df = pd.read_csv(a, delimiter=';').set_index('Country')[:-1]\n",
    "    df.to_csv('list_id.csv')"
   ]
  },
  {
   "cell_type": "code",
   "execution_count": null,
   "id": "d0471e61",
   "metadata": {},
   "outputs": [],
   "source": [
    "df = pd.read_csv('list_id.csv', index_col=0)"
   ]
  },
  {
   "cell_type": "code",
   "execution_count": null,
   "id": "dec7d522",
   "metadata": {
    "lines_to_next_cell": 2
   },
   "outputs": [],
   "source": [
    "link0 = 'https://worldweather.wmo.int/en/json/'\n",
    "for i, r in df[:].iterrows():\n",
    "    link = link0+ '%.0f'%r['CityId']+'_en.json'\n",
    "    a = wget.download(link, out=path)\n",
    "    print(a)"
   ]
  }
 ],
 "metadata": {
  "jupytext": {
   "cell_metadata_filter": "-all",
   "encoding": "# -*- coding: utf-8 -*-",
   "executable": "/usr/bin/env python3",
   "formats": "ipynb,py:percent",
   "main_language": "python"
  },
  "kernelspec": {
   "display_name": "Python 3 (ipykernel)",
   "language": "python",
   "name": "python3"
  },
  "language_info": {
   "codemirror_mode": {
    "name": "ipython",
    "version": 3
   },
   "file_extension": ".py",
   "mimetype": "text/x-python",
   "name": "python",
   "nbconvert_exporter": "python",
   "pygments_lexer": "ipython3",
   "version": "3.11.8"
  }
 },
 "nbformat": 4,
 "nbformat_minor": 5
}
