{
 "cells": [
  {
   "cell_type": "code",
   "execution_count": null,
   "id": "80bcab38",
   "metadata": {
    "lines_to_next_cell": 2
   },
   "outputs": [],
   "source": [
    "\"\"\"\n",
    "Created on Sun May 24 14:03:15 2020\n",
    "\n",
    "@author: doan\n",
    "\"\"\""
   ]
  },
  {
   "cell_type": "code",
   "execution_count": null,
   "id": "6748e197",
   "metadata": {},
   "outputs": [],
   "source": [
    "!/usr/bin/env python\n",
    "# -*- coding: utf-8 -*-"
   ]
  },
  {
   "cell_type": "code",
   "execution_count": null,
   "id": "11d09794",
   "metadata": {},
   "outputs": [],
   "source": [
    "import numpy as np\n",
    "import pandas as pd\n",
    "#from mpl_toolkits.basemap import Basemap\n",
    "import matplotlib.pyplot as plt\n",
    "from matplotlib.colors import Normalize, LinearSegmentedColormap, PowerNorm\n",
    "import sys"
   ]
  },
  {
   "cell_type": "code",
   "execution_count": null,
   "id": "989e115b",
   "metadata": {},
   "outputs": [],
   "source": []
  },
  {
   "cell_type": "code",
   "execution_count": null,
   "id": "d4c4b035",
   "metadata": {
    "lines_to_next_cell": 2
   },
   "outputs": [],
   "source": [
    "import matplotlib.pyplot as plt\n",
    "import cartopy.crs as ccrs\n",
    "import cartopy"
   ]
  },
  {
   "cell_type": "code",
   "execution_count": null,
   "id": "74618422",
   "metadata": {
    "lines_to_next_cell": 2
   },
   "outputs": [],
   "source": [
    "if 1:\n",
    "    \n",
    "    df = pd.read_csv('latlon.csv', index_col=0)\n",
    "    lat, lon = df['latitude'].values, df['longitude'].values\n",
    "    lon = np.where(lon<0, lon+360, lon)\n",
    "    proj = ccrs.PlateCarree(central_longitude=150)\n",
    "    #proj._threshold /= 10\n",
    "    #proj = ccrs.Robinson(central_longitude=145)\n",
    "    #proj = ccrs.Mollweide(central_longitude=145, globe=None)\n",
    "    \n",
    "\n",
    "    plt.figure(figsize=(10, 6))\n",
    "    ax = plt.axes(projection= proj )\n",
    "    \n",
    "    ax.set_extent([-90, 300, -65, 75], crs=ccrs.PlateCarree())\n",
    "    \n",
    "    #ax.coastlines() #resolution='10m',lw=.1)\n",
    "    #sys.exit()\n",
    "    #ax.gridlines()\n",
    "    ax.stock_img()\n",
    "    ax.scatter(lon, lat, s = 1, \n",
    "               color = 'r',\n",
    "               transform=ccrs.Geodetic())\n",
    "    #ax.add_feature(cartopy.feature.BORDERS, linestyle='-', alpha=.5,lw=.3)\n",
    "    #ax.outline_patch.set_linewidth(.5)\n",
    "    #sys.exit()\n",
    "    plt.savefig('city_map.png', dpi = 100)"
   ]
  },
  {
   "cell_type": "code",
   "execution_count": null,
   "id": "0dbe51a8",
   "metadata": {},
   "outputs": [],
   "source": [
    "if 0:\n",
    "    \n",
    "    df = pd.read_csv('latlon.csv', index_col=4)\n",
    "    \n",
    "    for dx in list(df.groupby(df.index))[:]:\n",
    "        country, d = dx\n",
    "        print(d)\n",
    "        lat, lon = d['latitude'].values, d['longitude'].values\n",
    "        \n",
    "        #lon = np.where(lon<0, lon+360, lon)\n",
    "        proj = ccrs.PlateCarree(central_longitude=150)\n",
    "    \n",
    "\n",
    "        plt.figure(figsize=(10, 6))\n",
    "        ax = plt.axes(projection= proj )\n",
    "        extent = [ lon.min() - 5, lon.max()+5, lat.min() - 5, lat.max()+5]\n",
    "    \n",
    "        ax.set_extent(extent, crs=ccrs.PlateCarree())\n",
    "    \n",
    "        ax.stock_img()\n",
    "        \n",
    "        for i, r in d.iterrows():\n",
    "            la, lo = r['latitude'], r['longitude']\n",
    "            #ax.scatter(lo, la, s = 10, color = 'r',transform=ccrs.Geodetic())\n",
    "\n",
    "            ax.text(lo, la, r['city'], \n",
    "                   color = 'r',\n",
    "                   ha = 'center',\n",
    "                   fontsize=12,\n",
    "                   transform=ccrs.Geodetic())\n",
    "            \n",
    "        plt.savefig('fig/'+country+'/'+'city_map.png', dpi = 100)\n",
    "        \n",
    "        #ax.add_feature(cartopy.feature.BORDERS, linestyle='-', alpha=.5,lw=.3)\n",
    "        #ax.outline_patch.set_linewidth(.5)\n",
    "    #sys.exit()\n",
    "    #plt.savefig('city_map.png', dpi = 100)"
   ]
  },
  {
   "cell_type": "code",
   "execution_count": null,
   "id": "cdf4c3d9",
   "metadata": {},
   "outputs": [],
   "source": []
  },
  {
   "cell_type": "code",
   "execution_count": null,
   "id": "e11cb719",
   "metadata": {},
   "outputs": [],
   "source": [
    "if False:\n",
    "    from  geopy.geocoders import Nominatim\n",
    "    geolocator = Nominatim()\n",
    "    ll = []\n",
    "    for cc in [  ['Tsukuba', 'Japan'],\n",
    "                 ['Hanoi', 'Vietnam'], \n",
    "                 ['Ho Chi Minh city', 'Vietnam'], \n",
    "                 ['Singapore', 'Singapore'],\n",
    "                 ['Kolkata','India'],\n",
    "                 ['Boulder', 'USA'],\n",
    "                 ['Brisbane', 'Australia'],\n",
    "                 ['Shanghai', 'China'],\n",
    "                 ['Cork', 'Ireland'], \n",
    "                 ['Austin', 'USA'], \n",
    "                 ['Sydney', 'Australia']]:\n",
    "    \n",
    "        print(cc)\n",
    "        city =cc[0]\n",
    "        country =cc[1]\n",
    "        loc = geolocator.geocode(city+','+ country)\n",
    "        ll.append( cc+[loc.latitude,loc.longitude] )\n",
    "        #print(\"latitude is :-\" ,loc.latitude,\"\\nlongtitude is:-\" ,loc.longitude)\n",
    "    pd.DataFrame(ll,columns=['City', 'Country', 'lat', 'lon']).to_csv('latlon.csv',index=None)"
   ]
  },
  {
   "cell_type": "code",
   "execution_count": null,
   "id": "dafbdcc5",
   "metadata": {
    "lines_to_next_cell": 2
   },
   "outputs": [],
   "source": []
  },
  {
   "cell_type": "code",
   "execution_count": null,
   "id": "2cf284cd",
   "metadata": {},
   "outputs": [],
   "source": [
    "if False:\n",
    "    df = pd.read_excel('latlon.xlsx', index_col=0)[:-1]\n",
    "    out_filename='international_cooperation.png'\n",
    "    \n",
    "    proj = ccrs.PlateCarree(central_longitude=145)\n",
    "    #proj._threshold /= 10\n",
    "    #proj = ccrs.Robinson(central_longitude=145)\n",
    "    #proj = ccrs.Mollweide(central_longitude=145, globe=None)\n",
    "    \n",
    "    \n",
    "    \n",
    "    \n",
    "    plt.figure(figsize=(10, 6))\n",
    "    ax = plt.axes(projection= proj )\n",
    "    \n",
    "    \n",
    "    ax.set_extent([-25, 340, -60, 75], crs=ccrs.PlateCarree())\n",
    "    \n",
    "    ax.coastlines(resolution='10m',lw=.1)\n",
    "    \n",
    "    #ax.gridlines()\n",
    "    ax.stock_img()\n",
    "    \n",
    "    ax.add_feature(cartopy.feature.BORDERS, linestyle='-', alpha=.5,lw=.3)\n",
    "    #ax.outline_patch.set_linewidth(.5)\n",
    "    #sys.exit()\n",
    "    \n",
    "    for i, row in df.iterrows():\n",
    "        ax.scatter(row.lon,row.lat,color='r',transform=ccrs.PlateCarree(),s=20)\n",
    "        plt.plot([df.loc['Tsukuba'].lon, row.lon], [df.loc['Tsukuba'].lat, row.lat],\n",
    "                 color='r', linewidth=row['lw']/2, marker=None,\n",
    "                 ls = 'none',\n",
    "                 transform=ccrs.Geodetic(),\n",
    "                 )\n",
    "        \n",
    "        if False:\n",
    "            x, y, fs, al = row.lon + row.x, row.lat + row.y, row.fs, row.al\n",
    "            text = row['text'].replace(';','\\n')\n",
    "            plt.text( x, y, text, fontsize=fs, ha=al,\n",
    "                     transform=ccrs.PlateCarree(),fontweight = 'bold', \n",
    "                     )\n",
    "    \n",
    "    plt.savefig(out_filename, format='png', bbox_inches='tight', dpi = 200)"
   ]
  },
  {
   "cell_type": "code",
   "execution_count": null,
   "id": "b8aa91e6",
   "metadata": {},
   "outputs": [],
   "source": [
    "    "
   ]
  },
  {
   "cell_type": "code",
   "execution_count": null,
   "id": "dd8ad298",
   "metadata": {},
   "outputs": [],
   "source": [
    "    "
   ]
  },
  {
   "cell_type": "code",
   "execution_count": null,
   "id": "81d7626b",
   "metadata": {
    "lines_to_next_cell": 2
   },
   "outputs": [],
   "source": [
    "    "
   ]
  },
  {
   "cell_type": "code",
   "execution_count": null,
   "id": "f005ac91",
   "metadata": {},
   "outputs": [],
   "source": [
    "sys.exit()\n",
    "if True:\n",
    "    df = pd.read_excel('latlon.xlsx', index_col=0)\n",
    "    out_filename='intter-con_3.png'\n",
    "    \n",
    "    #proj = ccrs.PlateCarree(central_longitude=145)\n",
    "    #proj._threshold /= 10\n",
    "    proj = ccrs.Robinson(central_longitude=145)\n",
    "    \n",
    "    plt.figure(figsize=(10, 6))\n",
    "    ax = plt.axes(projection= proj )\n",
    "    ax.coastlines(resolution='10m',lw=.1)\n",
    "    #ax.gridlines()\n",
    "    ax.stock_img()\n",
    "    \n",
    "    ax.add_feature(cartopy.feature.BORDERS, linestyle='-', alpha=.5,lw=.3)\n",
    "    #ax.outline_patch.set_linewidth(.5)\n",
    "\n",
    "    \n",
    "    for i, row in df.iterrows():\n",
    "        ax.scatter(row.lon,row.lat,color='r' ,transform=ccrs.PlateCarree(),s=4)\n",
    "        \n",
    "        x, y, fs, al = row.lon + row.x, row.lat + row.y, row.fs, row.al\n",
    "        text = row['text'].replace(';','\\n')\n",
    "        plt.text( x, y, text, fontsize=fs, ha=al,\n",
    "                 transform=ccrs.Geodetic(), \n",
    "                 )\n",
    "    \n",
    "    plt.savefig(out_filename, format='png', bbox_inches='tight', dpi = 200)"
   ]
  },
  {
   "cell_type": "code",
   "execution_count": null,
   "id": "00f8d113",
   "metadata": {
    "lines_to_next_cell": 2
   },
   "outputs": [],
   "source": [
    "    "
   ]
  },
  {
   "cell_type": "code",
   "execution_count": null,
   "id": "de520db0",
   "metadata": {},
   "outputs": [],
   "source": [
    "if True:\n",
    "    df = pd.read_excel('latlon.xlsx', index_col=0)\n",
    "    out_filename='intter-con_1.png'\n",
    "    \n",
    "    #proj = ccrs.PlateCarree(central_longitude=145)\n",
    "    #proj._threshold /= 10\n",
    "    proj = ccrs.Robinson(central_longitude=145)\n",
    "    \n",
    "    plt.figure(figsize=(10, 6))\n",
    "    ax = plt.axes(projection= proj )\n",
    "    ax.coastlines(resolution='10m',lw=.1)\n",
    "    #ax.gridlines()\n",
    "    ax.stock_img()\n",
    "    \n",
    "    ax.add_feature(cartopy.feature.BORDERS, linestyle='-', alpha=.5,lw=.3)\n",
    "    #ax.outline_patch.set_linewidth(.5)\n",
    "\n",
    "    \n",
    "    for i, row in df.iterrows():\n",
    "        ax.scatter(row.lon,row.lat,color='r',transform=ccrs.PlateCarree(),s=4)\n",
    "        \n",
    "        x, y, fs, al = row.lon + row.x, row.lat + row.y, row.fs, row.al\n",
    "        text = row['text'].replace(';','\\n')\n",
    "        plt.text( x, y, text, fontsize=fs, ha=al,\n",
    "                 transform=ccrs.Geodetic(),fontweight = 'bold', \n",
    "                 )\n",
    "    \n",
    "    plt.savefig(out_filename, format='png', bbox_inches='tight', dpi = 200)"
   ]
  },
  {
   "cell_type": "code",
   "execution_count": null,
   "id": "cc73a457",
   "metadata": {
    "lines_to_next_cell": 2
   },
   "outputs": [],
   "source": []
  },
  {
   "cell_type": "code",
   "execution_count": null,
   "id": "e646347a",
   "metadata": {},
   "outputs": [],
   "source": [
    "if True:\n",
    "    df = pd.read_excel('latlon.xlsx', index_col=0)\n",
    "    out_filename='intter-con_2.png'\n",
    "    \n",
    "    #proj = ccrs.PlateCarree(central_longitude=145)\n",
    "    #proj._threshold /= 10\n",
    "    proj = ccrs.Robinson(central_longitude=145)\n",
    "    \n",
    "    plt.figure(figsize=(10, 6))\n",
    "    ax = plt.axes(projection= proj )\n",
    "    ax.coastlines(resolution='10m',lw=.1)\n",
    "    #ax.gridlines()\n",
    "    ax.stock_img()\n",
    "    \n",
    "    ax.add_feature(cartopy.feature.BORDERS, linestyle='-', alpha=.5,lw=.3)\n",
    "    #ax.outline_patch.set_linewidth(.5)\n",
    "\n",
    "    \n",
    "    for i, row in df.iterrows():\n",
    "        ax.scatter(row.lon,row.lat,color='r',transform=ccrs.PlateCarree(),s=4)\n",
    "        \n",
    "    \n",
    "    plt.savefig(out_filename, format='png', bbox_inches='tight', dpi = 200)"
   ]
  },
  {
   "cell_type": "code",
   "execution_count": null,
   "id": "4a3e3c37",
   "metadata": {},
   "outputs": [],
   "source": [
    "        "
   ]
  },
  {
   "cell_type": "code",
   "execution_count": null,
   "id": "7eee378f",
   "metadata": {},
   "outputs": [],
   "source": [
    "        "
   ]
  },
  {
   "cell_type": "code",
   "execution_count": null,
   "id": "2149012c",
   "metadata": {},
   "outputs": [],
   "source": [
    "    "
   ]
  },
  {
   "cell_type": "code",
   "execution_count": null,
   "id": "a3229f30",
   "metadata": {},
   "outputs": [],
   "source": [
    "    "
   ]
  },
  {
   "cell_type": "code",
   "execution_count": null,
   "id": "271f9581",
   "metadata": {},
   "outputs": [],
   "source": [
    "    "
   ]
  },
  {
   "cell_type": "code",
   "execution_count": null,
   "id": "22e91042",
   "metadata": {},
   "outputs": [],
   "source": [
    "    "
   ]
  },
  {
   "cell_type": "code",
   "execution_count": null,
   "id": "a6092083",
   "metadata": {
    "lines_to_next_cell": 2
   },
   "outputs": [],
   "source": [
    "    "
   ]
  },
  {
   "cell_type": "code",
   "execution_count": null,
   "id": "7e17bdb4",
   "metadata": {},
   "outputs": [],
   "source": [
    "if True:\n",
    "    grpa = { 'U1': (['Tsukuba', 'Boulder', 'Nanjing','Singapore'], 'r'), \n",
    "             'U2': (['Tsukuba', 'Kolkata', 'Austin'], 'y'), \n",
    "             'U3': (['Tsukuba', 'Kolkata', 'Sydney'], 'orange'), \n",
    "             'H1': (['Tsukuba', 'Ho Chi Minh city', 'Brisbane'], 'b'), \n",
    "             'E1': (['Tsukuba', 'Cork', 'Hanoi'], 'g'),\n",
    "             'E2': (['Tsukuba', 'Ho Chi Minh city', 'Singapore'], 'g'),\n",
    "                    }\n",
    "        \n",
    "    for ik, k in enumerate([['U1'], ['U2','U3'], ['H1'], ['E1', 'E2']][:]):\n",
    "        \n",
    "        grps = { k1: grpa[k1] for k1 in k }\n",
    "        df = pd.read_excel('latlon.xlsx', index_col=0)\n",
    "        #proj = ccrs.PlateCarree(central_longitude=145)\n",
    "        #proj._threshold /= 10\n",
    "        proj = ccrs.Robinson(central_longitude=145)\n",
    "        \n",
    "        plt.figure(figsize=(10, 6))\n",
    "        ax = plt.axes(projection= proj )\n",
    "        ax.coastlines(resolution='10m',lw=.1)\n",
    "        #ax.gridlines()\n",
    "        ax.stock_img()\n",
    "        \n",
    "        ax.add_feature(cartopy.feature.BORDERS, linestyle='-', alpha=.5,lw=.3)\n",
    "        ax.outline_patch.set_linewidth(.5)\n",
    "        \n",
    "        for i, row in df[:0].iterrows():\n",
    "            ax.scatter(row.lon,row.lat,color='r',transform=ccrs.PlateCarree(),s=4)\n",
    "            plt.plot([df.loc['Tsukuba'].lon, row.lon], [df.loc['Tsukuba'].lat, row.lat],\n",
    "                 color='r', linewidth=row['lw']/2, marker=None,\n",
    "                 transform=ccrs.PlateCarree(),\n",
    "                 )\n",
    "            x, y, fs, al = row.lon + row.x, row.lat + row.y, row.fs, row.al\n",
    "            text = row['text'].replace(';','\\n')\n",
    "            plt.text( x, y, text, fontsize=fs, ha=al,\n",
    "                     transform=ccrs.Geodetic(),fontweight = 'bold', \n",
    "                     )\n",
    "            \n",
    "    \n",
    "        df.loc[:,'lon'] = np.where( df.lon.values < -10 , 360 + df.lon.values, df.lon.values)\n",
    "        \n",
    "        grpk = list(grps.keys())\n",
    "        for gr in grpk:\n",
    "            \n",
    "            d1 = df.loc[grps[gr][0]]\n",
    "            import matplotlib.patches as mpatches\n",
    "            \n",
    "            for i, row in d1[:].iterrows():\n",
    "                ax.scatter(row.lon,row.lat,color='r',transform=ccrs.PlateCarree(),s=4)\n",
    "                plt.plot([df.loc['Tsukuba'].lon, row.lon], [df.loc['Tsukuba'].lat, row.lat],\n",
    "                     color='r', linewidth=row['lw']/2, marker=None,\n",
    "                     transform=ccrs.Geodetic(),\n",
    "                     )\n",
    "                x, y, fs, al = row.lon + row.x, row.lat + row.y, row.fs, row.al\n",
    "                text = row['text'].replace(';','\\n')\n",
    "                plt.text( x, y, text, fontsize=fs, ha=al,\n",
    "                         transform=ccrs.PlateCarree(),\n",
    "                         )\n",
    "            \n",
    "            \n",
    "            \n",
    "            \n",
    "            lat_corners = d1.lat\n",
    "            lon_corners = d1.lon # offset from gridline for clarity\n",
    "            \n",
    "            poly_corners = np.zeros((len(lat_corners), 2), np.float64)\n",
    "            poly_corners[:,0] = lon_corners\n",
    "            poly_corners[:,1] = lat_corners\n",
    "        \n",
    "        \n",
    "            poly = mpatches.Polygon(poly_corners, \n",
    "                                    closed=True, ec='r', \n",
    "                                    fill=True, lw=1, \n",
    "                                    fc=grps[gr][1],\n",
    "                                    alpha=0.4,\n",
    "                                    #transform=ccrs.PlateCarree()\n",
    "                                    transform=ccrs.Geodetic()\n",
    "                                    ) # transform=ccrs.Geodetic())\n",
    "            ax.add_patch(poly)\n",
    "        \n",
    "        \n",
    "            #plt.plot(d1.lon,d1.lat, \n",
    "            #             color='r', lw = 1, marker=None,\n",
    "            #             transform=ccrs.PlateCarree(),\n",
    "            #             )\n",
    "            \n",
    "            plt.savefig('international_cooperation'+str(ik)+'.png', format='png', bbox_inches='tight', dpi = 200)"
   ]
  },
  {
   "cell_type": "code",
   "execution_count": null,
   "id": "ec0c2194",
   "metadata": {},
   "outputs": [],
   "source": [
    "            "
   ]
  },
  {
   "cell_type": "code",
   "execution_count": null,
   "id": "deeec34c",
   "metadata": {},
   "outputs": [],
   "source": [
    "    "
   ]
  },
  {
   "cell_type": "code",
   "execution_count": null,
   "id": "93d6f212",
   "metadata": {},
   "outputs": [],
   "source": []
  },
  {
   "cell_type": "code",
   "execution_count": null,
   "id": "1f62c825",
   "metadata": {},
   "outputs": [],
   "source": []
  },
  {
   "cell_type": "code",
   "execution_count": null,
   "id": "24db6eab",
   "metadata": {},
   "outputs": [],
   "source": []
  },
  {
   "cell_type": "code",
   "execution_count": null,
   "id": "73cbe3ef",
   "metadata": {},
   "outputs": [],
   "source": []
  },
  {
   "cell_type": "code",
   "execution_count": null,
   "id": "95593841",
   "metadata": {},
   "outputs": [],
   "source": []
  },
  {
   "cell_type": "code",
   "execution_count": null,
   "id": "868efbea",
   "metadata": {},
   "outputs": [],
   "source": []
  },
  {
   "cell_type": "code",
   "execution_count": null,
   "id": "84f19528",
   "metadata": {},
   "outputs": [],
   "source": []
  },
  {
   "cell_type": "code",
   "execution_count": null,
   "id": "383f8a5a",
   "metadata": {},
   "outputs": [],
   "source": []
  },
  {
   "cell_type": "code",
   "execution_count": null,
   "id": "778b029d",
   "metadata": {},
   "outputs": [],
   "source": []
  },
  {
   "cell_type": "code",
   "execution_count": null,
   "id": "e49e54db",
   "metadata": {},
   "outputs": [],
   "source": []
  },
  {
   "cell_type": "code",
   "execution_count": null,
   "id": "9ff1bbef",
   "metadata": {},
   "outputs": [],
   "source": []
  },
  {
   "cell_type": "code",
   "execution_count": null,
   "id": "c13b3a66",
   "metadata": {},
   "outputs": [],
   "source": []
  },
  {
   "cell_type": "code",
   "execution_count": null,
   "id": "236df83d",
   "metadata": {},
   "outputs": [],
   "source": []
  },
  {
   "cell_type": "code",
   "execution_count": null,
   "id": "1c4dffeb",
   "metadata": {},
   "outputs": [],
   "source": []
  },
  {
   "cell_type": "code",
   "execution_count": null,
   "id": "22e24bc1",
   "metadata": {},
   "outputs": [],
   "source": []
  },
  {
   "cell_type": "code",
   "execution_count": null,
   "id": "51b408ac",
   "metadata": {
    "lines_to_next_cell": 2
   },
   "outputs": [],
   "source": []
  },
  {
   "cell_type": "code",
   "execution_count": null,
   "id": "ab02dc04",
   "metadata": {},
   "outputs": [],
   "source": [
    "sys.exit()"
   ]
  },
  {
   "cell_type": "code",
   "execution_count": null,
   "id": "39c1a39a",
   "metadata": {},
   "outputs": [],
   "source": [
    "in_filename = 'data.csv' \n",
    "color_mode='screen'\n",
    "out_filename='flights_map_mpl.png'\n",
    "absolute=False\n",
    "\"\"\"Plots the given CSV data files use matplotlib basemap and saves it to\n",
    "a PNG file.\n",
    "Args:\n",
    "    in_filename: Filename of the CSV containing the data points.\n",
    "    out_filename: Output image filename\n",
    "    color_mode: Use 'screen' if you intend to use the visualisation for\n",
    "                on screen display. Use 'print' to save the visualisation\n",
    "                with printer-friendly colors.\n",
    "    absolute: set to True if you want coloring to depend on your dataset\n",
    "              parameter value (ie for comparison).\n",
    "              When set to false, each coordinate pair gets a different\n",
    "              color.\n",
    "\"\"\""
   ]
  },
  {
   "cell_type": "code",
   "execution_count": null,
   "id": "bbe4c1db",
   "metadata": {},
   "outputs": [],
   "source": [
    "if color_mode == 'screen':\n",
    "    bg_color = (0.0, 0.0, 0, 1.0)\n",
    "    coast_color = (204/255.0, 0, 153/255.0, 0.7)\n",
    "    color_list = [(0.0, 0.0, 0.0, 0.0),\n",
    "                  (204/255.0, 0, 153/255.0, 0.6),\n",
    "                  (255/255.0, 204/255.0, 230/255.0, 1.0)]\n",
    "else:\n",
    "    bg_color = (1.0, 1.0, 1.0, 1.0)\n",
    "    coast_color = (10.0/255.0, 10.0/255.0, 10/255.0, 0.8)\n",
    "    color_list = [(1.0, 1.0, 1.0, 0.0),\n",
    "                  (255/255.0, 204/255.0, 230/255.0, 1.0),\n",
    "                  (204/255.0, 0, 153/255.0, 0.6)\n",
    "                  ]"
   ]
  },
  {
   "cell_type": "code",
   "execution_count": null,
   "id": "1ffb6a63",
   "metadata": {},
   "outputs": [],
   "source": [
    "# define the expected CSV columns\n",
    "CSV_COLS = ('dep_lat', 'dep_lon', 'arr_lat', 'arr_lon',\n",
    "            'nb_flights', 'CO2')"
   ]
  },
  {
   "cell_type": "code",
   "execution_count": null,
   "id": "b3c8ec0b",
   "metadata": {},
   "outputs": [],
   "source": [
    "routes = pd.read_csv(in_filename, names=CSV_COLS, na_values=['\\\\N'],\n",
    "                     sep=';', skiprows=1)"
   ]
  },
  {
   "cell_type": "code",
   "execution_count": null,
   "id": "90eb02e4",
   "metadata": {},
   "outputs": [],
   "source": [
    "num_routes = len(routes.index)"
   ]
  },
  {
   "cell_type": "code",
   "execution_count": null,
   "id": "b1463fcd",
   "metadata": {},
   "outputs": [],
   "source": [
    "# normalize the dataset for color scale\n",
    "norm = PowerNorm(0.3, routes['nb_flights'].min(),\n",
    "                 routes['nb_flights'].max())\n",
    "# norm = Normalize(routes['nb_flights'].min(), routes['nb_flights'].max())"
   ]
  },
  {
   "cell_type": "code",
   "execution_count": null,
   "id": "a6e81920",
   "metadata": {},
   "outputs": [],
   "source": [
    "# create a linear color scale with enough colors\n",
    "if absolute:\n",
    "    n = routes['nb_flights'].max()\n",
    "else:\n",
    "    n = num_routes\n",
    "cmap = LinearSegmentedColormap.from_list('cmap_flights', color_list,\n",
    "                                         N=n)\n",
    "# create the map and draw country boundaries\n",
    "plt.figure(figsize=(10, 8))\n",
    "m = Basemap(projection='moll', lon_0=135)\n",
    "m.drawcoastlines(color=coast_color, linewidth=1.0)\n",
    "m.fillcontinents(color=bg_color, lake_color=bg_color)\n",
    "m.drawmapboundary(fill_color=bg_color)"
   ]
  },
  {
   "cell_type": "code",
   "execution_count": null,
   "id": "2edf6511",
   "metadata": {},
   "outputs": [],
   "source": [
    "# plot each route with its color depending on the number of flights\n",
    "for i, route in enumerate(routes.sort_values(by='nb_flights',\n",
    "                          ascending=True).iterrows()):\n",
    "    route = route[1]\n",
    "    if absolute:\n",
    "        color = cmap(norm(int(route['nb_flights'])))\n",
    "    else:\n",
    "        color = cmap(i * 1.0 / num_routes)\n",
    "\n",
    "    line, = m.drawgreatcircle(route['dep_lon'], route['dep_lat'],\n",
    "                              route['arr_lon'], route['arr_lat'],\n",
    "                              linewidth=0.5, color=color)\n",
    "    # if the path wraps the image, basemap plots a nasty line connecting\n",
    "    # the points at the opposite border of the map.\n",
    "    # we thus detect path that are bigger than 30km and split them\n",
    "    # by adding a NaN\n",
    "    path = line.get_path()\n",
    "    cut_point, = np.where(np.abs(np.diff(path.vertices[:, 0])) > 30000e3)\n",
    "    if len(cut_point) > 0:\n",
    "        cut_point = cut_point[0]\n",
    "        vertices = np.concatenate([path.vertices[:cut_point, :],\n",
    "                                  [[np.nan, np.nan]],\n",
    "                                  path.vertices[cut_point+1:, :]])\n",
    "        path.codes = None  # treat vertices as a serie of line segments\n",
    "        path.vertices = vertices"
   ]
  },
  {
   "cell_type": "code",
   "execution_count": null,
   "id": "95a428a2",
   "metadata": {
    "lines_to_next_cell": 2
   },
   "outputs": [],
   "source": [
    "# save the map\n",
    "plt.savefig(out_filename, format='png', bbox_inches='tight')"
   ]
  }
 ],
 "metadata": {
  "jupytext": {
   "cell_metadata_filter": "-all",
   "encoding": "# -*- coding: utf-8 -*-",
   "executable": "/usr/bin/env python3",
   "formats": "ipynb,py:percent",
   "main_language": "python"
  }
 },
 "nbformat": 4,
 "nbformat_minor": 5
}
