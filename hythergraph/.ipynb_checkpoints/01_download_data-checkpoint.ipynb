{
 "cells": [
  {
   "cell_type": "code",
   "execution_count": null,
   "id": "359ac58a",
   "metadata": {},
   "outputs": [],
   "source": [
    "\"\"\"\n",
    "Created on Fri Jul 19 23:19:23 2024\n",
    "https://worldweather.wmo.int/en/dataguide.html\n",
    "@author: doan\n",
    "\"\"\""
   ]
  },
  {
   "cell_type": "code",
   "execution_count": null,
   "id": "3b5dc594",
   "metadata": {
    "lines_to_next_cell": 2
   },
   "outputs": [],
   "source": [
    "import wget\n",
    "import sys, os, glob\n",
    "import pandas as pd\n",
    "import json"
   ]
  },
  {
   "cell_type": "code",
   "execution_count": null,
   "id": "094cd373",
   "metadata": {},
   "outputs": [],
   "source": [
    "path = 'download/'"
   ]
  },
  {
   "cell_type": "code",
   "execution_count": null,
   "id": "4e7487d1",
   "metadata": {},
   "outputs": [],
   "source": [
    "if 0:\n",
    "    a = wget.download('https://worldweather.wmo.int/en/json/full_city_list.txt')\n",
    "    \n",
    "    df = pd.read_csv(a, delimiter=';').set_index('Country')[:-1]\n",
    "    df.to_csv('list_id.csv')"
   ]
  },
  {
   "cell_type": "code",
   "execution_count": null,
   "id": "d0471e61",
   "metadata": {},
   "outputs": [],
   "source": [
    "df = pd.read_csv(   'list_id.csv', index_col=0)\n",
    "#with open(a) as json_file:\n",
    "#    data = json.load(json_file)"
   ]
  },
  {
   "cell_type": "code",
   "execution_count": null,
   "id": "dec7d522",
   "metadata": {
    "lines_to_next_cell": 2
   },
   "outputs": [],
   "source": [
    "link0 = 'https://worldweather.wmo.int/en/json/'\n",
    "for i, r in df[:].iterrows():\n",
    "    link = link0+ '%.0f'%r['CityId']+'_en.json'\n",
    "    a = wget.download(link, out=path)\n",
    "    print(a)"
   ]
  }
 ],
 "metadata": {
  "jupytext": {
   "cell_metadata_filter": "-all",
   "encoding": "# -*- coding: utf-8 -*-",
   "executable": "/usr/bin/env python3",
   "formats": "ipynb,py:percent",
   "main_language": "python"
  }
 },
 "nbformat": 4,
 "nbformat_minor": 5
}
