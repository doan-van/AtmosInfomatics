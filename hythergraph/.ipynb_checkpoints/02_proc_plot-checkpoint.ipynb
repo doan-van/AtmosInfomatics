{
 "cells": [
  {
   "cell_type": "code",
   "execution_count": null,
   "id": "560d5501",
   "metadata": {},
   "outputs": [],
   "source": [
    "\"\"\"\n",
    "Created on Fri Jul 19 23:44:06 2024\n",
    "\n",
    "@author: doan\n",
    "\"\"\""
   ]
  },
  {
   "cell_type": "code",
   "execution_count": null,
   "id": "f41ddc2e",
   "metadata": {
    "lines_to_next_cell": 2
   },
   "outputs": [],
   "source": [
    "import wget\n",
    "import sys, os, glob\n",
    "import pandas as pd\n",
    "import json\n",
    "import matplotlib.pyplot as plt"
   ]
  },
  {
   "cell_type": "code",
   "execution_count": null,
   "id": "776a0567",
   "metadata": {},
   "outputs": [],
   "source": [
    "idir = 'download/'\n",
    "ff = glob.glob(idir+'*.json')"
   ]
  },
  {
   "cell_type": "code",
   "execution_count": null,
   "id": "9e0b271c",
   "metadata": {},
   "outputs": [],
   "source": [
    "a = pd.read_csv(   'list_id.csv', index_col=2)"
   ]
  },
  {
   "cell_type": "code",
   "execution_count": null,
   "id": "1d3b5890",
   "metadata": {},
   "outputs": [],
   "source": []
  },
  {
   "cell_type": "code",
   "execution_count": null,
   "id": "d9449126",
   "metadata": {},
   "outputs": [],
   "source": [
    "lalo = []\n",
    "for f in ff[:10]:\n",
    "    cindex = float(f.split('/')[1].split('_')[0])\n",
    "    \n",
    "    b = a.loc[cindex]\n",
    "    city, country = b['City'], b['Country']\n",
    "    print(city, country)\n",
    "    try:\n",
    "        \n",
    "        with open(f) as json_file:\n",
    "            d = json.load(json_file)\n",
    "        df = pd.DataFrame(  d['city']['climate']['climateMonth']).set_index('month')\n",
    "        \n",
    "        lat, lon = float(d['city'][ 'cityLatitude' ]), float(d['city'][ 'cityLongitude' ])\n",
    "        lalo.append( [cindex, lat, lon, b['City'], b['Country'] ] )\n",
    "        \n",
    "        \n",
    "        do = pd.DataFrame( [ pd.to_numeric(df[c], errors='coerce' ) for c in [ 'maxTemp', 'minTemp', 'meanTemp', 'rainfall'] ]).T\n",
    "        #print(do)\n",
    "        \n",
    "        odir1 = 'data/'+country+'/'\n",
    "        odir2 = 'fig/'+country+'/'\n",
    "        for odir in [odir1, odir2]: \n",
    "            if not os.path.exists(odir): os.makedirs(odir)\n",
    "        \n",
    "        #ofile = 'climdata/%.0f'% cindex+'.csv'\n",
    "        #ofilep = 'plot/%.0f'% cindex+'.png'\n",
    "        ofile = odir1 + '/%.0f'% cindex+ '_'+city+  '.csv'\n",
    "        #ofilep = 'plot/%.0f'% cindex+'.png'\n",
    "        ofilep = odir2 + '/%.0f'% cindex+ '_'+city+  '.png'\n",
    "        \n",
    "        do.to_csv(ofile)\n",
    "        \n",
    "        \n",
    "        \n",
    "        if 0:\n",
    "            # plotting\n",
    "            # Example monthly climate data\n",
    "            months = [\"Jan\", \"Feb\", \"Mar\", \"Apr\", \"May\", \"Jun\", \"Jul\", \"Aug\", \"Sep\", \"Oct\", \"Nov\", \"Dec\"]\n",
    "            lab1, lab2, lab3 = 'Max Temperature (°C)', 'Min Temperature (°C)', 'Precipitation (mm)'\n",
    "            tit1 = 'Hythergraph: Monthly Temperature and Precipitation\\n'\n",
    "            xlab, ylab1, ylab2 = 'Month', 'Temperature (°C)', 'Precipitation (mm)'\n",
    "    \n",
    "            \n",
    "            temperature_max = do.maxTemp.values\n",
    "            temperature_min = do.minTemp.values\n",
    "            precipitation = do.rainfall.values\n",
    "            \n",
    "            # Create figure and axis\n",
    "            fig = plt.figure(figsize= [6,4] )\n",
    "            ax1 = plt.axes( [.15,.2,.7,.7] )\n",
    "            \n",
    "            \n",
    "    \n",
    "            \n",
    "            # Plot temperature data\n",
    "            ax1.plot(months, temperature_max, 'o--', color='darkred', label=lab1)\n",
    "            ax1.plot(months, temperature_min, 'o--', color='lightcoral', label=lab2)\n",
    "            ax1.set_xlabel(xlab)\n",
    "            ax1.set_ylabel(ylab1, color='red')\n",
    "            ax1.tick_params(axis='y', labelcolor='red')\n",
    "            \n",
    "            # Create a second y-axis to plot precipitation\n",
    "            ax2 = ax1.twinx()\n",
    "            ax2.bar(months, precipitation, alpha=0.3, color='green', label=lab3)\n",
    "            ax2.set_ylabel(ylab2, color='green')\n",
    "            ax2.tick_params(axis='y', labelcolor='green')\n",
    "            \n",
    "            # Add title and show plot\n",
    "            \n",
    "            plt.title(tit1+b['City'] + ' ('+b['Country']+')')\n",
    "            \n",
    "            fig.legend(loc='lower left', \n",
    "                       fontsize=8,\n",
    "                       ncols = 3, bbox_to_anchor=(0.1, -0.0))\n",
    "            \n",
    "            \n",
    "            fig.tight_layout()\n",
    "            plt.savefig(ofilep, dpi = 100)        \n",
    "            #plt.close()\n",
    "            \n",
    "        \n",
    "    except:\n",
    "        print('have problem')"
   ]
  },
  {
   "cell_type": "code",
   "execution_count": null,
   "id": "782eb1ca",
   "metadata": {},
   "outputs": [],
   "source": [
    "dll = pd.DataFrame(lalo, columns=['cityindex', 'latitude', 'longitude', 'city', 'country']).set_index('cityindex')\n",
    "dll.to_csv('latlon.csv')"
   ]
  }
 ],
 "metadata": {
  "jupytext": {
   "cell_metadata_filter": "-all",
   "encoding": "# -*- coding: utf-8 -*-",
   "executable": "/usr/bin/env python3",
   "formats": "ipynb,py:percent",
   "main_language": "python"
  }
 },
 "nbformat": 4,
 "nbformat_minor": 5
}
